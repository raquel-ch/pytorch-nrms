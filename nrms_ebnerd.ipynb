{
 "cells": [
  {
   "cell_type": "markdown",
   "metadata": {},
   "source": [
    "# Getting started\n",
    "\n",
    "In this notebook, we illustrate how to use the Neural News Recommendation with Multi-Head Self-Attention ([NRMS](https://aclanthology.org/D19-1671/)). The implementation is taken from the [recommenders](https://github.com/recommenders-team/recommenders) repository. We have simply stripped the model to keep it cleaner.\n",
    "\n",
    "We use a small dataset, which is downloaded from [recsys.eb.dk](https://recsys.eb.dk/). All the datasets are stored in the folder path ```~/ebnerd_data/*```."
   ]
  },
  {
   "cell_type": "code",
   "execution_count": 1,
   "metadata": {},
   "outputs": [
    {
     "name": "stdout",
     "output_type": "stream",
     "text": [
      ">> Using device: cuda:0\n"
     ]
    }
   ],
   "source": [
    "import torch\n",
    "import torch.nn as nn\n",
    "epoch = 0\n",
    "num_epochs = 10\n",
    "torch.cuda.empty_cache()\n",
    "\n",
    "device = torch.device(\"cuda:0\" if torch.cuda.is_available() else \"cpu\")\n",
    "print(f\">> Using device: {device}\")"
   ]
  },
  {
   "cell_type": "markdown",
   "metadata": {},
   "source": [
    "## Load functionality"
   ]
  },
  {
   "cell_type": "code",
   "execution_count": 2,
   "metadata": {},
   "outputs": [
    {
     "name": "stderr",
     "output_type": "stream",
     "text": [
      "c:\\Users\\danie\\anaconda3\\envs\\DeepLearningNew\\Lib\\site-packages\\tqdm\\auto.py:21: TqdmWarning: IProgress not found. Please update jupyter and ipywidgets. See https://ipywidgets.readthedocs.io/en/stable/user_install.html\n",
      "  from .autonotebook import tqdm as notebook_tqdm\n"
     ]
    },
    {
     "name": "stdout",
     "output_type": "stream",
     "text": [
      "WARNING:tensorflow:From c:\\Users\\danie\\anaconda3\\envs\\DeepLearningNew\\Lib\\site-packages\\keras\\src\\losses.py:2976: The name tf.losses.sparse_softmax_cross_entropy is deprecated. Please use tf.compat.v1.losses.sparse_softmax_cross_entropy instead.\n",
      "\n"
     ]
    }
   ],
   "source": [
    "from transformers import AutoTokenizer, AutoModel\n",
    "from pathlib import Path\n",
    "import tensorflow as tf\n",
    "import polars as pl\n",
    "from torch.utils.tensorboard import SummaryWriter\n",
    "\n",
    "\n",
    "from _constants import (\n",
    "    DEFAULT_HISTORY_ARTICLE_ID_COL,\n",
    "    DEFAULT_CLICKED_ARTICLES_COL,\n",
    "    DEFAULT_INVIEW_ARTICLES_COL,\n",
    "    DEFAULT_IMPRESSION_ID_COL,\n",
    "    DEFAULT_SUBTITLE_COL,\n",
    "    DEFAULT_LABELS_COL,\n",
    "    DEFAULT_TITLE_COL,\n",
    "    DEFAULT_USER_COL,\n",
    ")\n",
    "\n",
    "from _behaviors import (\n",
    "    create_binary_labels_column,\n",
    "    sampling_strategy_wu2019,\n",
    "    add_known_user_column,\n",
    "    add_prediction_scores,\n",
    "    truncate_history,\n",
    ")\n",
    "from _articles import convert_text2encoding_with_transformers\n",
    "from _polars import concat_str_columns, slice_join_dataframes\n",
    "from _articles import create_article_id_to_value_mapping\n",
    "from _nlp import get_transformers_word_embeddings\n",
    "from _python import write_submission_file, rank_predictions_by_score\n",
    "\n",
    "from dataloader import NRMSDataLoader\n",
    "from model_config import hparams_nrms\n",
    "from NRMSModel import NRMSModel"
   ]
  },
  {
   "cell_type": "markdown",
   "metadata": {},
   "source": [
    "## Load dataset"
   ]
  },
  {
   "cell_type": "code",
   "execution_count": 3,
   "metadata": {},
   "outputs": [],
   "source": [
    "def get_parameters():\n",
    "    learning_rate = float(input(\"Learning rate: \"))\n",
    "    batch_size = int(input(\"Batch size: \"))\n",
    "    epochs = int(input(\"Epochs: \"))\n",
    "    weight_decay = float(input(\"Weight decay: \"))\n",
    "    head_dim = int(input(\"Head dimension/number: \"))\n",
    "    history_size = int(input(\"History size: \"))\n",
    "    \n",
    "    return learning_rate, batch_size, epochs, weight_decay, head_dim, history_size\n",
    "\n",
    "learning_rate, batch_size, epochs, weight_decay, head_dim, history_size = get_parameters()\n",
    "hparams_nrms.learning_rate = learning_rate\n",
    "hparams_nrms.batch_size = batch_size\n",
    "hparams_nrms.epochs = epochs\n",
    "hparams_nrms.weight_decay = weight_decay\n",
    "hparams_nrms.head_dim = head_dim\n",
    "hparams_nrms.head_num = head_dim\n",
    "hparams_nrms.history_size = history_size\n",
    "\n",
    "def ebnerd_from_path(path: Path, history_size: int = 10) -> pl.DataFrame:\n",
    "    \"\"\"\n",
    "    Load ebnerd - function\n",
    "    \"\"\"\n",
    "    df_history = (\n",
    "        pl.scan_parquet(path.joinpath(\"history.parquet\"))\n",
    "        .select(DEFAULT_USER_COL, DEFAULT_HISTORY_ARTICLE_ID_COL)\n",
    "        .pipe(\n",
    "            truncate_history,\n",
    "            column=DEFAULT_HISTORY_ARTICLE_ID_COL,\n",
    "            history_size=history_size,\n",
    "            padding_value=0,\n",
    "            enable_warning=False,\n",
    "        )\n",
    "    )\n",
    "    df_behaviors = (\n",
    "        pl.scan_parquet(path.joinpath(\"behaviors.parquet\"))\n",
    "        .collect()\n",
    "        .pipe(\n",
    "            slice_join_dataframes,\n",
    "            df2=df_history.collect(),\n",
    "            on=DEFAULT_USER_COL,\n",
    "            how=\"left\",\n",
    "        )\n",
    "    )\n",
    "    return df_behaviors"
   ]
  },
  {
   "cell_type": "markdown",
   "metadata": {},
   "source": [
    "### Generate labels\n",
    "We sample a few just to get started. For testset we just make up a dummy column with 0 and 1 - this is not the true labels."
   ]
  },
  {
   "cell_type": "code",
   "execution_count": 4,
   "metadata": {},
   "outputs": [],
   "source": [
    "PATH = Path(\"~/ebnerd_data\").expanduser()\n",
    "DATASPLIT = \"ebnerd_small\"\n",
    "DUMP_DIR = PATH.joinpath(\"downloads1\")\n",
    "DUMP_DIR.mkdir(exist_ok=True, parents=True)"
   ]
  },
  {
   "cell_type": "markdown",
   "metadata": {},
   "source": [
    "In this example we sample the dataset, just to keep it smaller. Also, one can simply add the testset similary to the validation."
   ]
  },
  {
   "cell_type": "markdown",
   "metadata": {},
   "source": []
  },
  {
   "cell_type": "code",
   "execution_count": null,
   "metadata": {},
   "outputs": [
    {
     "data": {
      "text/html": [
       "<div><style>\n",
       ".dataframe > thead > tr,\n",
       ".dataframe > tbody > tr {\n",
       "  text-align: right;\n",
       "  white-space: pre-wrap;\n",
       "}\n",
       "</style>\n",
       "<small>shape: (2, 6)</small><table border=\"1\" class=\"dataframe\"><thead><tr><th>user_id</th><th>article_id_fixed</th><th>article_ids_inview</th><th>article_ids_clicked</th><th>impression_id</th><th>labels</th></tr><tr><td>u32</td><td>list[i32]</td><td>list[i64]</td><td>list[i64]</td><td>u32</td><td>list[i8]</td></tr></thead><tbody><tr><td>139836</td><td>[9748041, 4800276, … 9765156]</td><td>[9778669, 9778728, … 9778669]</td><td>[9778657]</td><td>149474</td><td>[0, 0, … 0]</td></tr><tr><td>143471</td><td>[9770798, 9769306, … 9770989]</td><td>[9778669, 9778623, … 9778657]</td><td>[9778623]</td><td>150528</td><td>[0, 1, … 0]</td></tr></tbody></table></div>"
      ],
      "text/plain": [
       "shape: (2, 6)\n",
       "┌─────────┬───────────────────┬───────────────────┬──────────────────┬───────────────┬─────────────┐\n",
       "│ user_id ┆ article_id_fixed  ┆ article_ids_invie ┆ article_ids_clic ┆ impression_id ┆ labels      │\n",
       "│ ---     ┆ ---               ┆ w                 ┆ ked              ┆ ---           ┆ ---         │\n",
       "│ u32     ┆ list[i32]         ┆ ---               ┆ ---              ┆ u32           ┆ list[i8]    │\n",
       "│         ┆                   ┆ list[i64]         ┆ list[i64]        ┆               ┆             │\n",
       "╞═════════╪═══════════════════╪═══════════════════╪══════════════════╪═══════════════╪═════════════╡\n",
       "│ 139836  ┆ [9748041,         ┆ [9778669,         ┆ [9778657]        ┆ 149474        ┆ [0, 0, … 0] │\n",
       "│         ┆ 4800276, …        ┆ 9778728, …        ┆                  ┆               ┆             │\n",
       "│         ┆ 9765156]          ┆ 9778669]          ┆                  ┆               ┆             │\n",
       "│ 143471  ┆ [9770798,         ┆ [9778669,         ┆ [9778623]        ┆ 150528        ┆ [0, 1, … 0] │\n",
       "│         ┆ 9769306, …        ┆ 9778623, …        ┆                  ┆               ┆             │\n",
       "│         ┆ 9770989]          ┆ 9778657]          ┆                  ┆               ┆             │\n",
       "└─────────┴───────────────────┴───────────────────┴──────────────────┴───────────────┴─────────────┘"
      ]
     },
     "execution_count": 5,
     "metadata": {},
     "output_type": "execute_result"
    }
   ],
   "source": [
    "COLUMNS = [\n",
    "    DEFAULT_USER_COL,\n",
    "    DEFAULT_HISTORY_ARTICLE_ID_COL,\n",
    "    DEFAULT_INVIEW_ARTICLES_COL,\n",
    "    DEFAULT_CLICKED_ARTICLES_COL,\n",
    "    DEFAULT_IMPRESSION_ID_COL,\n",
    "]\n",
    "HISTORY_SIZE = hparams_nrms.history_size\n",
    "FRACTION = 0.01\n",
    "\n",
    "df_train = (\n",
    "    ebnerd_from_path(PATH.joinpath(DATASPLIT, \"train\"), history_size=HISTORY_SIZE)\n",
    "    .select(COLUMNS)\n",
    "    .pipe(\n",
    "        sampling_strategy_wu2019,\n",
    "        npratio=4,\n",
    "        shuffle=True,\n",
    "        with_replacement=True,\n",
    "        seed=123,\n",
    "    )\n",
    "    .pipe(create_binary_labels_column)\n",
    "    .sample(fraction=FRACTION)\n",
    ")\n",
    "# =>\n",
    "df_validation = (\n",
    "    ebnerd_from_path(PATH.joinpath(DATASPLIT, \"validation\"), history_size=HISTORY_SIZE)\n",
    "    .select(COLUMNS)\n",
    "    .pipe(create_binary_labels_column)\n",
    "    .sample(fraction=FRACTION)\n",
    ")\n",
    "df_train.head(2)"
   ]
  },
  {
   "cell_type": "markdown",
   "metadata": {},
   "source": [
    "## Load articles"
   ]
  },
  {
   "cell_type": "code",
   "execution_count": 6,
   "metadata": {},
   "outputs": [
    {
     "data": {
      "text/html": [
       "<div><style>\n",
       ".dataframe > thead > tr,\n",
       ".dataframe > tbody > tr {\n",
       "  text-align: right;\n",
       "  white-space: pre-wrap;\n",
       "}\n",
       "</style>\n",
       "<small>shape: (2, 21)</small><table border=\"1\" class=\"dataframe\"><thead><tr><th>article_id</th><th>title</th><th>subtitle</th><th>last_modified_time</th><th>premium</th><th>body</th><th>published_time</th><th>image_ids</th><th>article_type</th><th>url</th><th>ner_clusters</th><th>entity_groups</th><th>topics</th><th>category</th><th>subcategory</th><th>category_str</th><th>total_inviews</th><th>total_pageviews</th><th>total_read_time</th><th>sentiment_score</th><th>sentiment_label</th></tr><tr><td>i32</td><td>str</td><td>str</td><td>datetime[μs]</td><td>bool</td><td>str</td><td>datetime[μs]</td><td>list[i64]</td><td>str</td><td>str</td><td>list[str]</td><td>list[str]</td><td>list[str]</td><td>i16</td><td>list[i16]</td><td>str</td><td>i32</td><td>i32</td><td>f32</td><td>f32</td><td>str</td></tr></thead><tbody><tr><td>3001353</td><td>&quot;Natascha var i…</td><td>&quot;Politiet frygt…</td><td>2023-06-29 06:20:33</td><td>false</td><td>&quot;Sagen om den ø…</td><td>2006-08-31 08:06:45</td><td>[3150850]</td><td>&quot;article_defaul…</td><td>&quot;https://ekstra…</td><td>[]</td><td>[]</td><td>[&quot;Kriminalitet&quot;, &quot;Personfarlig kriminalitet&quot;]</td><td>140</td><td>[]</td><td>&quot;krimi&quot;</td><td>null</td><td>null</td><td>null</td><td>0.9955</td><td>&quot;Negative&quot;</td></tr><tr><td>3003065</td><td>&quot;Kun Star Wars …</td><td>&quot;Biografgængern…</td><td>2023-06-29 06:20:35</td><td>false</td><td>&quot;Vatikanet har …</td><td>2006-05-21 16:57:00</td><td>[3006712]</td><td>&quot;article_defaul…</td><td>&quot;https://ekstra…</td><td>[]</td><td>[]</td><td>[&quot;Underholdning&quot;, &quot;Film og tv&quot;, &quot;Økonomi&quot;]</td><td>414</td><td>[433, 434]</td><td>&quot;underholdning&quot;</td><td>null</td><td>null</td><td>null</td><td>0.846</td><td>&quot;Positive&quot;</td></tr></tbody></table></div>"
      ],
      "text/plain": [
       "shape: (2, 21)\n",
       "┌───────────┬───────────┬───────────┬───────────┬───┬───────────┬───────────┬───────────┬──────────┐\n",
       "│ article_i ┆ title     ┆ subtitle  ┆ last_modi ┆ … ┆ total_pag ┆ total_rea ┆ sentiment ┆ sentimen │\n",
       "│ d         ┆ ---       ┆ ---       ┆ fied_time ┆   ┆ eviews    ┆ d_time    ┆ _score    ┆ t_label  │\n",
       "│ ---       ┆ str       ┆ str       ┆ ---       ┆   ┆ ---       ┆ ---       ┆ ---       ┆ ---      │\n",
       "│ i32       ┆           ┆           ┆ datetime[ ┆   ┆ i32       ┆ f32       ┆ f32       ┆ str      │\n",
       "│           ┆           ┆           ┆ μs]       ┆   ┆           ┆           ┆           ┆          │\n",
       "╞═══════════╪═══════════╪═══════════╪═══════════╪═══╪═══════════╪═══════════╪═══════════╪══════════╡\n",
       "│ 3001353   ┆ Natascha  ┆ Politiet  ┆ 2023-06-2 ┆ … ┆ null      ┆ null      ┆ 0.9955    ┆ Negative │\n",
       "│           ┆ var ikke  ┆ frygter   ┆ 9         ┆   ┆           ┆           ┆           ┆          │\n",
       "│           ┆ den       ┆ nu, at    ┆ 06:20:33  ┆   ┆           ┆           ┆           ┆          │\n",
       "│           ┆ første    ┆ Natascha… ┆           ┆   ┆           ┆           ┆           ┆          │\n",
       "│ 3003065   ┆ Kun Star  ┆ Biografgæ ┆ 2023-06-2 ┆ … ┆ null      ┆ null      ┆ 0.846     ┆ Positive │\n",
       "│           ┆ Wars      ┆ ngerne    ┆ 9         ┆   ┆           ┆           ┆           ┆          │\n",
       "│           ┆ tjente    ┆ strømmer  ┆ 06:20:35  ┆   ┆           ┆           ┆           ┆          │\n",
       "│           ┆ mere      ┆ ind for…  ┆           ┆   ┆           ┆           ┆           ┆          │\n",
       "└───────────┴───────────┴───────────┴───────────┴───┴───────────┴───────────┴───────────┴──────────┘"
      ]
     },
     "execution_count": 6,
     "metadata": {},
     "output_type": "execute_result"
    }
   ],
   "source": [
    "df_articles = pl.read_parquet(PATH.joinpath(\"ebnerd_small/articles.parquet\"))\n",
    "df_articles.head(2)"
   ]
  },
  {
   "cell_type": "markdown",
   "metadata": {},
   "source": [
    "## Init model using HuggingFace's tokenizer and wordembedding\n",
    "In the original implementation, they use the GloVe embeddings and tokenizer. To get going fast, we'll use a multilingual LLM from Hugging Face. \n",
    "Utilizing the tokenizer to tokenize the articles and the word-embedding to init NRMS.\n"
   ]
  },
  {
   "cell_type": "code",
   "execution_count": 7,
   "metadata": {},
   "outputs": [
    {
     "name": "stderr",
     "output_type": "stream",
     "text": [
      "c:\\Users\\danie\\anaconda3\\envs\\DeepLearningNew\\Lib\\site-packages\\huggingface_hub\\file_download.py:797: FutureWarning: `resume_download` is deprecated and will be removed in version 1.0.0. Downloads always resume when possible. If you want to force a new download, use `force_download=True`.\n",
      "  warnings.warn(\n",
      "c:\\Users\\danie\\anaconda3\\envs\\DeepLearningNew\\Lib\\site-packages\\huggingface_hub\\file_download.py:797: FutureWarning: `resume_download` is deprecated and will be removed in version 1.0.0. Downloads always resume when possible. If you want to force a new download, use `force_download=True`.\n",
      "  warnings.warn(\n"
     ]
    },
    {
     "name": "stdout",
     "output_type": "stream",
     "text": [
      "(250037, 384)\n"
     ]
    }
   ],
   "source": [
    "TRANSFORMER_MODEL_NAME = \"sentence-transformers/paraphrase-multilingual-MiniLM-L12-v2\"\n",
    "TEXT_COLUMNS_TO_USE = [DEFAULT_SUBTITLE_COL, DEFAULT_TITLE_COL]\n",
    "MAX_TITLE_LENGTH = 30\n",
    "\n",
    "# LOAD HUGGINGFACE:\n",
    "transformer_model = AutoModel.from_pretrained(TRANSFORMER_MODEL_NAME)\n",
    "transformer_tokenizer = AutoTokenizer.from_pretrained(TRANSFORMER_MODEL_NAME)\n",
    "\n",
    "# We'll init the word embeddings using the\n",
    "word2vec_embedding = get_transformers_word_embeddings(transformer_model)\n",
    "print(word2vec_embedding.shape)\n",
    "#\n",
    "df_articles, cat_cal = concat_str_columns(df_articles, columns=TEXT_COLUMNS_TO_USE)\n",
    "df_articles, token_col_title = convert_text2encoding_with_transformers(\n",
    "    df_articles, transformer_tokenizer, cat_cal, max_length=MAX_TITLE_LENGTH\n",
    ")\n",
    "# =>\n",
    "article_mapping = create_article_id_to_value_mapping(\n",
    "    df=df_articles, value_col=token_col_title\n",
    ")"
   ]
  },
  {
   "cell_type": "markdown",
   "metadata": {},
   "source": [
    "# Initiate the dataloaders\n",
    "In the implementations we have disconnected the models and data. Hence, you should built a dataloader that fits your needs."
   ]
  },
  {
   "cell_type": "code",
   "execution_count": 8,
   "metadata": {},
   "outputs": [],
   "source": [
    "train_dataloader = NRMSDataLoader(\n",
    "    behaviors=df_train,\n",
    "    article_dict=article_mapping,\n",
    "    unknown_representation=\"zeros\",\n",
    "    history_column=DEFAULT_HISTORY_ARTICLE_ID_COL,\n",
    "    eval_mode=False,\n",
    "    batch_size=hparams_nrms.batch_size,\n",
    ")\n",
    "val_dataloader = NRMSDataLoader(\n",
    "    behaviors=df_validation,\n",
    "    article_dict=article_mapping,\n",
    "    unknown_representation=\"zeros\",\n",
    "    history_column=DEFAULT_HISTORY_ARTICLE_ID_COL,\n",
    "    eval_mode=True,\n",
    "    batch_size=hparams_nrms.batch_size,\n",
    ")"
   ]
  },
  {
   "cell_type": "code",
   "execution_count": 9,
   "metadata": {},
   "outputs": [
    {
     "name": "stdout",
     "output_type": "stream",
     "text": [
      "Hyperparameters:\n",
      "Learning rate: 0.0001\n",
      "Batch size: 8\n",
      "Epochs: 50\n",
      "Weight decay: 0.0\n",
      "Head dimension: 8\n",
      "Head number: 8\n"
     ]
    }
   ],
   "source": [
    "def print_hparams(hparams):\n",
    "    print(\"Hyperparameters:\")\n",
    "    print(f\"Learning rate: {hparams.learning_rate}\")\n",
    "    print(f\"Batch size: {hparams.batch_size}\")\n",
    "    print(f\"Epochs: {hparams.epochs}\")\n",
    "    print(f\"Weight decay: {hparams.weight_decay}\")\n",
    "    print(f\"Head dimension: {hparams.head_dim}\")\n",
    "    print(f\"Head number: {hparams.head_num}\")\n",
    "    \n",
    "        \n",
    "print_hparams(hparams_nrms)"
   ]
  },
  {
   "cell_type": "markdown",
   "metadata": {},
   "source": [
    "## Train the model\n"
   ]
  },
  {
   "cell_type": "code",
   "execution_count": null,
   "metadata": {},
   "outputs": [
    {
     "name": "stdout",
     "output_type": "stream",
     "text": [
      "NRMSModel(\n",
      "  (embedding): Embedding(250037, 384)\n",
      "  (encode_news): NewsEncoder(\n",
      "    (embedding): Embedding(250037, 384)\n",
      "    (dropout): Dropout(p=0.2, inplace=False)\n",
      "    (multihead_attention): MultiheadAttention(\n",
      "      (out_proj): NonDynamicallyQuantizableLinear(in_features=384, out_features=384, bias=True)\n",
      "    )\n",
      "    (attention): AttLayer2()\n",
      "  )\n",
      "  (user_encoder): UserEncoder(\n",
      "    (multihead_attention): MultiheadAttention(\n",
      "      (out_proj): NonDynamicallyQuantizableLinear(in_features=384, out_features=384, bias=True)\n",
      "    )\n",
      "    (additive_attention): AttLayer2()\n",
      "    (dropout): Dropout(p=0.2, inplace=False)\n",
      "    (batch_norm_attention): BatchNorm1d(384, eps=1e-05, momentum=0.1, affine=True, track_running_stats=True)\n",
      "  )\n",
      ")\n",
      "Parameter: embedding.weight, Requires Grad: False, Shape: torch.Size([250037, 384])\n",
      "Parameter: encode_news.embedding.weight, Requires Grad: False, Shape: torch.Size([250037, 384])\n",
      "Parameter: encode_news.multihead_attention.in_proj_weight, Requires Grad: True, Shape: torch.Size([1152, 384])\n",
      "Parameter: encode_news.multihead_attention.in_proj_bias, Requires Grad: True, Shape: torch.Size([1152])\n",
      "Parameter: encode_news.multihead_attention.out_proj.weight, Requires Grad: True, Shape: torch.Size([384, 384])\n",
      "Parameter: encode_news.multihead_attention.out_proj.bias, Requires Grad: True, Shape: torch.Size([384])\n",
      "Parameter: encode_news.attention.W, Requires Grad: True, Shape: torch.Size([384, 384])\n",
      "Parameter: encode_news.attention.b, Requires Grad: True, Shape: torch.Size([384])\n",
      "Parameter: encode_news.attention.q, Requires Grad: True, Shape: torch.Size([384, 1])\n",
      "Parameter: user_encoder.multihead_attention.in_proj_weight, Requires Grad: True, Shape: torch.Size([1152, 384])\n",
      "Parameter: user_encoder.multihead_attention.in_proj_bias, Requires Grad: True, Shape: torch.Size([1152])\n",
      "Parameter: user_encoder.multihead_attention.out_proj.weight, Requires Grad: True, Shape: torch.Size([384, 384])\n",
      "Parameter: user_encoder.multihead_attention.out_proj.bias, Requires Grad: True, Shape: torch.Size([384])\n",
      "Parameter: user_encoder.additive_attention.W, Requires Grad: True, Shape: torch.Size([384, 384])\n",
      "Parameter: user_encoder.additive_attention.b, Requires Grad: True, Shape: torch.Size([384])\n",
      "Parameter: user_encoder.additive_attention.q, Requires Grad: True, Shape: torch.Size([384, 1])\n",
      "Parameter: user_encoder.batch_norm_attention.weight, Requires Grad: True, Shape: torch.Size([384])\n",
      "Parameter: user_encoder.batch_norm_attention.bias, Requires Grad: True, Shape: torch.Size([384])\n"
     ]
    }
   ],
   "source": [
    "from sklearn.metrics import roc_auc_score\n",
    "import torch.nn.utils  # Ensure this is imported for gradient clipping\n",
    "\n",
    "epoch = 0\n",
    "num_epochs = hparams_nrms.epochs\n",
    "\n",
    "word2vec_embedding = torch.tensor(word2vec_embedding, dtype=torch.float32).to(device)\n",
    "\n",
    "nrms = NRMSModel(hparams_nrms=hparams_nrms, word2vec_embedding=word2vec_embedding, seed=50).to(device)  # Adding to device\n",
    "print(nrms)\n",
    "\n",
    "for name, param in nrms.named_parameters():\n",
    "    print(f\"Parameter: {name}, Requires Grad: {param.requires_grad}, Shape: {param.shape}\")\n",
    "\n",
    "\n",
    "optimizer = torch.optim.Adam(nrms.parameters(), lr=hparams_nrms.learning_rate, weight_decay=hparams_nrms.weight_decay)\n",
    "loss_fn = nn.CrossEntropyLoss()\n",
    "val_loss_fn = nn.CrossEntropyLoss()\n",
    "\n",
    "# Gradient clipping parameter\n",
    "max_norm = 5.0  # Maximum gradient norm\n",
    "running_losses = []\n",
    "validation_losses = []\n",
    "training_aucs = []\n",
    "validation_aucs = []\n",
    "# Training loop\n",
    "for epoch in range(num_epochs):\n",
    "    nrms.train()  # Set the model to training mode\n",
    "    running_loss = 0.0\n",
    "    all_labels = []\n",
    "    all_outputs = []\n",
    "    \n",
    "    for i, ((his_input_title, pred_input_title), labels) in enumerate(train_dataloader):\n",
    "        his_input_title = his_input_title.to(device, dtype=torch.long)\n",
    "        pred_input_title = pred_input_title.to(device, dtype=torch.long)\n",
    "        og_labels = labels\n",
    "        labels = labels.to(device, dtype=torch.long).view(-1)\n",
    "\n",
    "        optimizer.zero_grad()  # Zero the gradients\n",
    "        outputs = nrms(his_input_title, pred_input_title).to(device)  # Forward pass\n",
    "        \n",
    "        loss = loss_fn(outputs.view(-1), labels.float())  # Compute the loss\n",
    "        loss.backward()  # Backward pass\n",
    "        loss.detach()  # Detach the loss to save memory\n",
    "        \n",
    "        # Apply gradient clipping\n",
    "        torch.nn.utils.clip_grad_norm_(nrms.parameters(), max_norm)\n",
    "\n",
    "        optimizer.step()  # Update the parameters\n",
    "        running_loss += loss.item()\n",
    "    \n",
    "        \n",
    "        # Detach tensors immediately after use to save memory\n",
    "        his_input_title.detach()\n",
    "        pred_input_title.detach()\n",
    "        labels.detach()\n",
    "        \n",
    "        # Save labels and outputs for AUC calculation\n",
    "        all_labels.extend(og_labels.detach().cpu().numpy())\n",
    "        all_outputs.extend(outputs.detach().cpu().numpy())\n",
    "        \n",
    "        del his_input_title, pred_input_title, labels, loss, outputs, og_labels\n",
    "        torch.cuda.empty_cache()  # Clear unused GPU memory\n",
    "\n",
    "    running_loss /= len(train_dataloader)\n",
    "    running_losses.append(running_loss)\n",
    "    # Calculate AUC score\n",
    "    auc = 0\n",
    "    for i, label_true in enumerate(all_labels):\n",
    "        auc += roc_auc_score(label_true, all_outputs[i])\n",
    "    auc /= len(all_labels)\n",
    "    training_aucs.append(auc)\n",
    "    \n",
    "    # Print training details\n",
    "    print(f\"Epoch: {epoch + 1}/{num_epochs}\")\n",
    "    print(f\"Training loss: {running_loss:.10f}, Training AUC: {auc:.10f}\")\n",
    "    # print(f\"Training outputs: {all_outputs[:10]}\")\n",
    "    # print(f\"Training labels: {all_labels[:10]}\")\n",
    "\n",
    "    # Validation loop\n",
    "    nrms.eval()  # Set the model to evaluation mode\n",
    "    all_labels = []\n",
    "    all_outputs = []\n",
    "    val_loss = 0.0\n",
    "    with torch.no_grad():\n",
    "        for i, ((his_input_title, pred_input_title), labels) in enumerate(val_dataloader):\n",
    "            his_input_title = his_input_title.to(device, dtype=torch.long)\n",
    "            pred_input_title = pred_input_title.to(device, dtype=torch.long)\n",
    "            og_labels = labels\n",
    "            labels = labels.to(device, dtype=torch.long).view(-1)\n",
    "\n",
    "            outputs = nrms(his_input_title, pred_input_title).to(device)  # Forward pass\n",
    "            loss = val_loss_fn(outputs.view(-1), labels.float())\n",
    "            val_loss += loss.item()\n",
    "            \n",
    "            all_labels.extend(og_labels.cpu().numpy())\n",
    "            all_outputs.extend(outputs.cpu().numpy())\n",
    "            \n",
    "            # Detach tensors immediately after use to save memory\n",
    "            his_input_title = his_input_title.detach()\n",
    "            pred_input_title = pred_input_title.detach()\n",
    "            labels = labels.detach()\n",
    "            outputs = outputs.detach()\n",
    "            del his_input_title, pred_input_title, labels, outputs\n",
    "            torch.cuda.empty_cache()\n",
    "            \n",
    "    val_loss /= len(val_dataloader)\n",
    "    validation_losses.append(val_loss)\n",
    "\n",
    "    # Calculate AUC score\n",
    "    auc = roc_auc_score(all_labels, all_outputs)\n",
    "    validation_aucs.append(auc)\n",
    "    \n",
    "    # print(f\"Validation outputs: {all_outputs[:10]}\")\n",
    "    # print(f\"Validation labels: {all_labels[:10]}\")\n",
    "    \n",
    "    # Print validation details\n",
    "    print(f\"Validation loss: {val_loss:.10f}, Validation AUC: {auc:.10f}\")\n",
    "    print(f\"--------------------------\\n\")\n",
    "        \n",
    "\n",
    "# Save the model\n",
    "torch.save(nrms.state_dict(), \"nrms_model.pth\")\n",
    "print(\"Model saved!\")\n",
    "\n",
    "        \n",
    "\n"
   ]
  },
  {
   "cell_type": "code",
   "execution_count": null,
   "metadata": {},
   "outputs": [
    {
     "name": "stdout",
     "output_type": "stream",
     "text": [
      "[3.688143373451917, 3.688140128841775, 3.688152521721427, 3.6881350558807866, 3.679475507402298, 3.6382143401773845, 3.623247063536607, 3.6043436130227238, 3.5908295699004738, 3.5679457230409124, 3.557504644157742, 3.5494642982515487, 3.5336964026564313, 3.519920022542613, 3.5058322429249777, 3.497890355951454, 3.489440719252667, 3.4712080234752367, 3.4635435734723594, 3.4568858802267672]\n",
      "[4.532053496734295, 4.532053513889515, 4.532053354813832, 4.532046891194528, 4.531817921243139, 4.531445401083322, 4.5396867870602176, 4.5494188197986665, 4.5343933908644996, 4.533229629816038, 4.534634555058702, 4.537448592977453, 4.53300055849289, 4.532997375419661, 4.532916855051784, 4.533220482184472, 4.533835740140103, 4.53406714145414, 4.533992768113767, 4.533258728969321]\n"
     ]
    },
    {
     "data": {
      "image/png": "[encoded data removed]",
      "text/plain": [
       "<Figure size 640x480 with 1 Axes>"
      ]
     },
     "metadata": {},
     "output_type": "display_data"
    },
    {
     "name": "stdout",
     "output_type": "stream",
     "text": [
      "Loss plot saved :D\n"
     ]
    },
    {
     "data": {
      "text/plain": [
       "<Figure size 640x480 with 0 Axes>"
      ]
     },
     "metadata": {},
     "output_type": "display_data"
    },
    {
     "ename": "",
     "evalue": "",
     "output_type": "error",
     "traceback": [
      "\u001b[1;31mThe Kernel crashed while executing code in the current cell or a previous cell. \n",
      "\u001b[1;31mPlease review the code in the cell(s) to identify a possible cause of the failure. \n",
      "\u001b[1;31mClick <a href='https://aka.ms/vscodeJupyterKernelCrash'>here</a> for more info. \n",
      "\u001b[1;31mView Jupyter <a href='command:jupyter.viewOutput'>log</a> for further details."
     ]
    }
   ],
   "source": [
    "# Plot the training loss and validation loss\n",
    "import matplotlib.pyplot as plt\n",
    "print(running_losses)\n",
    "print(validation_losses)\n",
    "plt.title(\"Configuration 1 - Loss\")\n",
    "plt.plot(list(range(1, num_epochs + 1)), running_losses, label=\"Training Loss\")\n",
    "# steps for x-axis\n",
    "plt.xticks(list(range(1, num_epochs + 1, 2)))\n",
    "# steps for y-axis should be of 0.2 from 0 to 1\n",
    "# plt.yticks([i/2 for i in range(0, 3)])\n",
    "plt.xlabel(\"Epoch\")\n",
    "plt.ylabel(\"Loss\")\n",
    "plt.plot(range(1, num_epochs + 1), validation_losses, label=\"Validation Loss\")\n",
    "plt.legend()\n",
    "plt.show()\n",
    "plt.savefig(f\"plots/loss_bs{hparams_nrms.batch_size}_lr{hparams_nrms.learning_rate}_wd{hparams_nrms.weight_decay}_hd{hparams_nrms.head_dim}_hn{hparams_nrms.head_num}_hs{hparams_nrms.history_size}.png\")\n",
    "\n",
    "print(\"Loss plot saved :D\")"
   ]
  },
  {
   "cell_type": "code",
   "execution_count": null,
   "metadata": {},
   "outputs": [
    {
     "data": {
      "image/png": "[encoded data removed]",
      "text/plain": [
       "<Figure size 640x480 with 1 Axes>"
      ]
     },
     "metadata": {},
     "output_type": "display_data"
    },
    {
     "name": "stdout",
     "output_type": "stream",
     "text": [
      "AUC plot saved :D\n"
     ]
    },
    {
     "data": {
      "text/plain": [
       "<Figure size 640x480 with 0 Axes>"
      ]
     },
     "metadata": {},
     "output_type": "display_data"
    }
   ],
   "source": [
    "# Plot the training loss and validation loss\n",
    "import matplotlib.pyplot as plt\n",
    "# Reset the plot\n",
    "plt.plot()\n",
    "plt.title(\"Configuration 1 - AUC\")\n",
    "plt.plot(list(range(1, num_epochs + 1)), training_aucs, label=\"Training AUC\")\n",
    "# steps for x-axis\n",
    "plt.xticks(list(range(1, num_epochs + 1, 2)))\n",
    "# steps for y-axis should be of 0.05 from 0 to 1\n",
    "# plt.yticks([i/20 for i in range(0, 21)])\n",
    "\n",
    "plt.xlabel(\"Epoch\")\n",
    "plt.ylabel(\"AUC\")\n",
    "plt.plot(range(1, num_epochs + 1), validation_aucs, label=\"Validation AUC\")\n",
    "plt.legend()\n",
    "plt.show()\n",
    "plt.savefig(f\"plots/auc_bs{hparams_nrms.batch_size}_lr{hparams_nrms.learning_rate}_wd{hparams_nrms.weight_decay}_hd{hparams_nrms.head_dim}_hn{hparams_nrms.head_num}_hs{hparams_nrms.history_size}.png\")\n",
    "\n",
    "print(\"AUC plot saved :D\")"
   ]
  },
  {
   "cell_type": "code",
   "execution_count": null,
   "metadata": {},
   "outputs": [
    {
     "name": "stderr",
     "output_type": "stream",
     "text": [
      "C:\\Users\\danie\\AppData\\Local\\Temp\\ipykernel_21772\\1362560733.py:3: FutureWarning: You are using `torch.load` with `weights_only=False` (the current default value), which uses the default pickle module implicitly. It is possible to construct malicious pickle data which will execute arbitrary code during unpickling (See https://github.com/pytorch/pytorch/blob/main/SECURITY.md#untrusted-models for more details). In a future release, the default value for `weights_only` will be flipped to `True`. This limits the functions that could be executed during unpickling. Arbitrary objects will no longer be allowed to be loaded via this mode unless they are explicitly allowlisted by the user via `torch.serialization.add_safe_globals`. We recommend you start setting `weights_only=True` for any use case where you don't have full control of the loaded file. Please open an issue on GitHub for any issues related to this experimental feature.\n",
      "  nrms.load_state_dict(torch.load(\"nrms_model.pth\"))\n"
     ]
    },
    {
     "ename": "KeyboardInterrupt",
     "evalue": "",
     "output_type": "error",
     "traceback": [
      "\u001b[1;31m---------------------------------------------------------------------------\u001b[0m",
      "\u001b[1;31mKeyboardInterrupt\u001b[0m                         Traceback (most recent call last)",
      "Cell \u001b[1;32mIn[44], line 19\u001b[0m\n\u001b[0;32m     17\u001b[0m         outputs \u001b[38;5;241m=\u001b[39m outputs\u001b[38;5;241m.\u001b[39mdetach()\n\u001b[0;32m     18\u001b[0m         \u001b[38;5;28;01mdel\u001b[39;00m his_input_title, pred_input_title, outputs\n\u001b[1;32m---> 19\u001b[0m         \u001b[43mtorch\u001b[49m\u001b[38;5;241;43m.\u001b[39;49m\u001b[43mcuda\u001b[49m\u001b[38;5;241;43m.\u001b[39;49m\u001b[43mempty_cache\u001b[49m\u001b[43m(\u001b[49m\u001b[43m)\u001b[49m\n\u001b[0;32m     21\u001b[0m \u001b[38;5;66;03m# Rank the predictions\u001b[39;00m\n\u001b[0;32m     22\u001b[0m df_validation \u001b[38;5;241m=\u001b[39m df_validation\u001b[38;5;241m.\u001b[39mwith_column(\u001b[38;5;124m\"\u001b[39m\u001b[38;5;124mpredictions\u001b[39m\u001b[38;5;124m\"\u001b[39m, pl\u001b[38;5;241m.\u001b[39mSeries(predictions))\n",
      "File \u001b[1;32mc:\\Users\\danie\\anaconda3\\envs\\DeepLearningNew\\Lib\\site-packages\\torch\\cuda\\memory.py:192\u001b[0m, in \u001b[0;36mempty_cache\u001b[1;34m()\u001b[0m\n\u001b[0;32m    181\u001b[0m \u001b[38;5;250m\u001b[39m\u001b[38;5;124mr\u001b[39m\u001b[38;5;124;03m\"\"\"Release all unoccupied cached memory currently held by the caching\u001b[39;00m\n\u001b[0;32m    182\u001b[0m \u001b[38;5;124;03mallocator so that those can be used in other GPU application and visible in\u001b[39;00m\n\u001b[0;32m    183\u001b[0m \u001b[38;5;124;03m`nvidia-smi`.\u001b[39;00m\n\u001b[1;32m   (...)\u001b[0m\n\u001b[0;32m    189\u001b[0m \u001b[38;5;124;03m    more details about GPU memory management.\u001b[39;00m\n\u001b[0;32m    190\u001b[0m \u001b[38;5;124;03m\"\"\"\u001b[39;00m\n\u001b[0;32m    191\u001b[0m \u001b[38;5;28;01mif\u001b[39;00m is_initialized():\n\u001b[1;32m--> 192\u001b[0m     \u001b[43mtorch\u001b[49m\u001b[38;5;241;43m.\u001b[39;49m\u001b[43m_C\u001b[49m\u001b[38;5;241;43m.\u001b[39;49m\u001b[43m_cuda_emptyCache\u001b[49m\u001b[43m(\u001b[49m\u001b[43m)\u001b[49m\n",
      "\u001b[1;31mKeyboardInterrupt\u001b[0m: "
     ]
    }
   ],
   "source": [
    "# Load the model\n",
    "nrms = NRMSModel(hparams_nrms=hparams_nrms, word2vec_embedding=word2vec_embedding, seed=50).to(device)\n",
    "nrms.load_state_dict(torch.load(\"nrms_model.pth\"))\n",
    "nrms.eval()\n",
    "\n",
    "# Generate predictions\n",
    "predictions = []\n",
    "nrms.eval()\n",
    "with torch.no_grad():\n",
    "    for i, ((his_input_title, pred_input_title), labels) in enumerate(val_dataloader):\n",
    "        his_input_title = his_input_title.to(device, dtype=torch.long)\n",
    "        pred_input_title = pred_input_title.to(device, dtype=torch.long)\n",
    "        outputs = nrms(his_input_title, pred_input_title).to(device)\n",
    "        predictions.extend(outputs.cpu().numpy())\n",
    "        his_input_title = his_input_title.detach()\n",
    "        pred_input_title = pred_input_title.detach()\n",
    "        outputs = outputs.detach()\n",
    "        del his_input_title, pred_input_title, outputs\n",
    "        torch.cuda.empty_cache()\n",
    "        \n",
    "# Rank the predictions\n",
    "df_validation = df_validation.with_column(\"predictions\", pl.Series(predictions))\n",
    "df_validation = rank_predictions_by_score(df_validation, \"predictions\", groupby=DEFAULT_IMPRESSION_ID_COL)\n",
    "df_validation.head(5)\n"
   ]
  },
  {
   "cell_type": "markdown",
   "metadata": {},
   "source": [
    "# Example how to compute some metrics:"
   ]
  },
  {
   "cell_type": "code",
   "execution_count": null,
   "metadata": {},
   "outputs": [],
   "source": [
    "# pred_validation = model.scorer.predict(val_dataloader)"
   ]
  },
  {
   "cell_type": "markdown",
   "metadata": {},
   "source": [
    "## Add the predictions to the dataframe"
   ]
  },
  {
   "cell_type": "code",
   "execution_count": null,
   "metadata": {},
   "outputs": [],
   "source": [
    "# df_validation = add_prediction_scores(df_validation, pred_validation.tolist()).pipe(\n",
    "#     add_known_user_column, known_users=df_train[DEFAULT_USER_COL]\n",
    "# )\n",
    "# df_validation.head(2)"
   ]
  },
  {
   "cell_type": "markdown",
   "metadata": {},
   "source": [
    "### Compute metrics"
   ]
  },
  {
   "cell_type": "code",
   "execution_count": null,
   "metadata": {},
   "outputs": [],
   "source": [
    "# metrics = MetricEvaluator(\n",
    "#     labels=df_validation[\"labels\"].to_list(),\n",
    "#     predictions=df_validation[\"scores\"].to_list(),\n",
    "#     metric_functions=[AucScore(), MrrScore(), NdcgScore(k=5), NdcgScore(k=10)],\n",
    "# )\n",
    "# metrics.evaluate()"
   ]
  },
  {
   "cell_type": "markdown",
   "metadata": {},
   "source": [
    "## Make submission file"
   ]
  },
  {
   "cell_type": "code",
   "execution_count": null,
   "metadata": {},
   "outputs": [],
   "source": [
    "# df_validation = df_validation.with_columns(\n",
    "#     pl.col(\"scores\")\n",
    "#     .map_elements(lambda x: list(rank_predictions_by_score(x)))\n",
    "#     .alias(\"ranked_scores\")\n",
    "# )\n",
    "# df_validation.head(2)"
   ]
  },
  {
   "cell_type": "markdown",
   "metadata": {},
   "source": [
    "This is using the validation, simply add the testset to your flow."
   ]
  },
  {
   "cell_type": "code",
   "execution_count": null,
   "metadata": {},
   "outputs": [],
   "source": [
    "# write_submission_file(\n",
    "#     impression_ids=df_validation[DEFAULT_IMPRESSION_ID_COL],\n",
    "#     prediction_scores=df_validation[\"ranked_scores\"],\n",
    "#     path=\"downloads/predictions.txt\",\n",
    "# )"
   ]
  },
  {
   "cell_type": "markdown",
   "metadata": {},
   "source": [
    "# DONE 🚀"
   ]
  }
 ],
 "metadata": {
  "kernelspec": {
   "display_name": "DeepLearningNew",
   "language": "python",
   "name": "python3"
  },
  "language_info": {
   "codemirror_mode": {
    "name": "ipython",
    "version": 3
   },
   "file_extension": ".py",
   "mimetype": "text/x-python",
   "name": "python",
   "nbconvert_exporter": "python",
   "pygments_lexer": "ipython3",
   "version": "3.11.10"
  }
 },
 "nbformat": 4,
 "nbformat_minor": 2
}
