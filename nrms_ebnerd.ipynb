{
 "cells": [
  {
   "cell_type": "markdown",
   "metadata": {},
   "source": [
    "# Getting started\n",
    "\n",
    "In this notebook, we illustrate how to use the Neural News Recommendation with Multi-Head Self-Attention ([NRMS](https://aclanthology.org/D19-1671/)). The implementation is taken from the [recommenders](https://github.com/recommenders-team/recommenders) repository. We have simply stripped the model to keep it cleaner.\n",
    "\n",
    "We use a small dataset, which is downloaded from [recsys.eb.dk](https://recsys.eb.dk/). All the datasets are stored in the folder path ```~/ebnerd_data/*```."
   ]
  },
  {
   "cell_type": "code",
   "execution_count": 1,
   "metadata": {},
   "outputs": [
    {
     "name": "stdout",
     "output_type": "stream",
     "text": [
      ">> Using device: cuda:0\n"
     ]
    }
   ],
   "source": [
    "import torch\n",
    "import torch.nn as nn\n",
    "epoch = 0\n",
    "num_epochs = 10\n",
    "torch.cuda.empty_cache()\n",
    "\n",
    "device = torch.device(\"cuda:0\" if torch.cuda.is_available() else \"cpu\")\n",
    "print(f\">> Using device: {device}\")"
   ]
  },
  {
   "cell_type": "markdown",
   "metadata": {},
   "source": [
    "## Load functionality"
   ]
  },
  {
   "cell_type": "code",
   "execution_count": 2,
   "metadata": {},
   "outputs": [
    {
     "name": "stderr",
     "output_type": "stream",
     "text": [
      "c:\\Users\\danie\\anaconda3\\envs\\DeepLearningNew\\Lib\\site-packages\\tqdm\\auto.py:21: TqdmWarning: IProgress not found. Please update jupyter and ipywidgets. See https://ipywidgets.readthedocs.io/en/stable/user_install.html\n",
      "  from .autonotebook import tqdm as notebook_tqdm\n"
     ]
    },
    {
     "name": "stdout",
     "output_type": "stream",
     "text": [
      "WARNING:tensorflow:From c:\\Users\\danie\\anaconda3\\envs\\DeepLearningNew\\Lib\\site-packages\\keras\\src\\losses.py:2976: The name tf.losses.sparse_softmax_cross_entropy is deprecated. Please use tf.compat.v1.losses.sparse_softmax_cross_entropy instead.\n",
      "\n"
     ]
    }
   ],
   "source": [
    "from transformers import AutoTokenizer, AutoModel\n",
    "from pathlib import Path\n",
    "import tensorflow as tf\n",
    "import polars as pl\n",
    "from torch.utils.tensorboard import SummaryWriter\n",
    "\n",
    "\n",
    "from _constants import (\n",
    "    DEFAULT_HISTORY_ARTICLE_ID_COL,\n",
    "    DEFAULT_CLICKED_ARTICLES_COL,\n",
    "    DEFAULT_INVIEW_ARTICLES_COL,\n",
    "    DEFAULT_IMPRESSION_ID_COL,\n",
    "    DEFAULT_SUBTITLE_COL,\n",
    "    DEFAULT_LABELS_COL,\n",
    "    DEFAULT_TITLE_COL,\n",
    "    DEFAULT_USER_COL,\n",
    ")\n",
    "\n",
    "from _behaviors import (\n",
    "    create_binary_labels_column,\n",
    "    sampling_strategy_wu2019,\n",
    "    add_known_user_column,\n",
    "    add_prediction_scores,\n",
    "    truncate_history,\n",
    ")\n",
    "from _articles import convert_text2encoding_with_transformers\n",
    "from _polars import concat_str_columns, slice_join_dataframes\n",
    "from _articles import create_article_id_to_value_mapping\n",
    "from _nlp import get_transformers_word_embeddings\n",
    "from _python import write_submission_file, rank_predictions_by_score\n",
    "\n",
    "from dataloader import NRMSDataLoader\n",
    "from model_config import hparams_nrms\n",
    "from NRMSModel import NRMSModel"
   ]
  },
  {
   "cell_type": "markdown",
   "metadata": {},
   "source": [
    "## Load dataset"
   ]
  },
  {
   "cell_type": "code",
   "execution_count": 3,
   "metadata": {},
   "outputs": [],
   "source": [
    "def get_parameters():\n",
    "    learning_rate = float(input(\"Learning rate: \"))\n",
    "    batch_size = int(input(\"Batch size: \"))\n",
    "    epochs = int(input(\"Epochs: \"))\n",
    "    weight_decay = float(input(\"Weight decay: \"))\n",
    "    head_dim = int(input(\"Head dimension/number: \"))\n",
    "    history_size = int(input(\"History size: \"))\n",
    "    \n",
    "    return learning_rate, batch_size, epochs, weight_decay, head_dim, history_size\n",
    "\n",
    "learning_rate, batch_size, epochs, weight_decay, head_dim, history_size = get_parameters()\n",
    "hparams_nrms.learning_rate = learning_rate\n",
    "hparams_nrms.batch_size = batch_size\n",
    "hparams_nrms.epochs = epochs\n",
    "hparams_nrms.weight_decay = weight_decay\n",
    "hparams_nrms.head_dim = head_dim\n",
    "hparams_nrms.head_num = head_dim\n",
    "hparams_nrms.history_size = history_size\n",
    "\n",
    "def ebnerd_from_path(path: Path, history_size: int = 10) -> pl.DataFrame:\n",
    "    \"\"\"\n",
    "    Load ebnerd - function\n",
    "    \"\"\"\n",
    "    df_history = (\n",
    "        pl.scan_parquet(path.joinpath(\"history.parquet\"))\n",
    "        .select(DEFAULT_USER_COL, DEFAULT_HISTORY_ARTICLE_ID_COL)\n",
    "        .pipe(\n",
    "            truncate_history,\n",
    "            column=DEFAULT_HISTORY_ARTICLE_ID_COL,\n",
    "            history_size=history_size,\n",
    "            padding_value=0,\n",
    "            enable_warning=False,\n",
    "        )\n",
    "    )\n",
    "    df_behaviors = (\n",
    "        pl.scan_parquet(path.joinpath(\"behaviors.parquet\"))\n",
    "        .collect()\n",
    "        .pipe(\n",
    "            slice_join_dataframes,\n",
    "            df2=df_history.collect(),\n",
    "            on=DEFAULT_USER_COL,\n",
    "            how=\"left\",\n",
    "        )\n",
    "    )\n",
    "    return df_behaviors"
   ]
  },
  {
   "cell_type": "markdown",
   "metadata": {},
   "source": [
    "### Generate labels\n",
    "We sample a few just to get started. For testset we just make up a dummy column with 0 and 1 - this is not the true labels."
   ]
  },
  {
   "cell_type": "code",
   "execution_count": 4,
   "metadata": {},
   "outputs": [],
   "source": [
    "PATH = Path(\"~/ebnerd_data\").expanduser()\n",
    "DATASPLIT = \"ebnerd_small\"\n",
    "DUMP_DIR = PATH.joinpath(\"downloads1\")\n",
    "DUMP_DIR.mkdir(exist_ok=True, parents=True)"
   ]
  },
  {
   "cell_type": "markdown",
   "metadata": {},
   "source": [
    "In this example we sample the dataset, just to keep it smaller. Also, one can simply add the testset similary to the validation."
   ]
  },
  {
   "cell_type": "markdown",
   "metadata": {},
   "source": []
  },
  {
   "cell_type": "code",
   "execution_count": 5,
   "metadata": {},
   "outputs": [
    {
     "data": {
      "text/html": [
       "<div><style>\n",
       ".dataframe > thead > tr,\n",
       ".dataframe > tbody > tr {\n",
       "  text-align: right;\n",
       "  white-space: pre-wrap;\n",
       "}\n",
       "</style>\n",
       "<small>shape: (2, 6)</small><table border=\"1\" class=\"dataframe\"><thead><tr><th>user_id</th><th>article_id_fixed</th><th>article_ids_inview</th><th>article_ids_clicked</th><th>impression_id</th><th>labels</th></tr><tr><td>u32</td><td>list[i32]</td><td>list[i64]</td><td>list[i64]</td><td>u32</td><td>list[i8]</td></tr></thead><tbody><tr><td>15545</td><td>[9770594, 9770882, … 9770538]</td><td>[9776497, 9776715, … 9776046]</td><td>[9776046]</td><td>5939154</td><td>[0, 0, … 1]</td></tr><tr><td>62209</td><td>[9767399, 9767301, … 9767620]</td><td>[9776040, 9533957, … 9776489]</td><td>[9776489]</td><td>363197960</td><td>[0, 0, … 1]</td></tr></tbody></table></div>"
      ],
      "text/plain": [
       "shape: (2, 6)\n",
       "┌─────────┬───────────────────┬───────────────────┬──────────────────┬───────────────┬─────────────┐\n",
       "│ user_id ┆ article_id_fixed  ┆ article_ids_invie ┆ article_ids_clic ┆ impression_id ┆ labels      │\n",
       "│ ---     ┆ ---               ┆ w                 ┆ ked              ┆ ---           ┆ ---         │\n",
       "│ u32     ┆ list[i32]         ┆ ---               ┆ ---              ┆ u32           ┆ list[i8]    │\n",
       "│         ┆                   ┆ list[i64]         ┆ list[i64]        ┆               ┆             │\n",
       "╞═════════╪═══════════════════╪═══════════════════╪══════════════════╪═══════════════╪═════════════╡\n",
       "│ 15545   ┆ [9770594,         ┆ [9776497,         ┆ [9776046]        ┆ 5939154       ┆ [0, 0, … 1] │\n",
       "│         ┆ 9770882, …        ┆ 9776715, …        ┆                  ┆               ┆             │\n",
       "│         ┆ 9770538]          ┆ 9776046]          ┆                  ┆               ┆             │\n",
       "│ 62209   ┆ [9767399,         ┆ [9776040,         ┆ [9776489]        ┆ 363197960     ┆ [0, 0, … 1] │\n",
       "│         ┆ 9767301, …        ┆ 9533957, …        ┆                  ┆               ┆             │\n",
       "│         ┆ 9767620]          ┆ 9776489]          ┆                  ┆               ┆             │\n",
       "└─────────┴───────────────────┴───────────────────┴──────────────────┴───────────────┴─────────────┘"
      ]
     },
     "execution_count": 5,
     "metadata": {},
     "output_type": "execute_result"
    }
   ],
   "source": [
    "COLUMNS = [\n",
    "    DEFAULT_USER_COL,\n",
    "    DEFAULT_HISTORY_ARTICLE_ID_COL,\n",
    "    DEFAULT_INVIEW_ARTICLES_COL,\n",
    "    DEFAULT_CLICKED_ARTICLES_COL,\n",
    "    DEFAULT_IMPRESSION_ID_COL,\n",
    "]\n",
    "HISTORY_SIZE = hparams_nrms.history_size\n",
    "FRACTION = 0.01\n",
    "\n",
    "df_train = (\n",
    "    ebnerd_from_path(PATH.joinpath(DATASPLIT, \"train\"), history_size=HISTORY_SIZE)\n",
    "    .select(COLUMNS)\n",
    "    .pipe(\n",
    "        sampling_strategy_wu2019,\n",
    "        npratio=4,\n",
    "        shuffle=True,\n",
    "        with_replacement=True,\n",
    "        seed=123,\n",
    "    )\n",
    "    .pipe(create_binary_labels_column)\n",
    "    .sample(fraction=FRACTION)\n",
    ")\n",
    "# =>\n",
    "df_validation = (\n",
    "    ebnerd_from_path(PATH.joinpath(DATASPLIT, \"validation\"), history_size=HISTORY_SIZE)\n",
    "    .select(COLUMNS)\n",
    "    .pipe(create_binary_labels_column)\n",
    "    .sample(fraction=FRACTION)\n",
    ")\n",
    "df_train.head(2)"
   ]
  },
  {
   "cell_type": "markdown",
   "metadata": {},
   "source": [
    "## Load articles"
   ]
  },
  {
   "cell_type": "code",
   "execution_count": 6,
   "metadata": {},
   "outputs": [
    {
     "data": {
      "text/html": [
       "<div><style>\n",
       ".dataframe > thead > tr,\n",
       ".dataframe > tbody > tr {\n",
       "  text-align: right;\n",
       "  white-space: pre-wrap;\n",
       "}\n",
       "</style>\n",
       "<small>shape: (2, 21)</small><table border=\"1\" class=\"dataframe\"><thead><tr><th>article_id</th><th>title</th><th>subtitle</th><th>last_modified_time</th><th>premium</th><th>body</th><th>published_time</th><th>image_ids</th><th>article_type</th><th>url</th><th>ner_clusters</th><th>entity_groups</th><th>topics</th><th>category</th><th>subcategory</th><th>category_str</th><th>total_inviews</th><th>total_pageviews</th><th>total_read_time</th><th>sentiment_score</th><th>sentiment_label</th></tr><tr><td>i32</td><td>str</td><td>str</td><td>datetime[μs]</td><td>bool</td><td>str</td><td>datetime[μs]</td><td>list[i64]</td><td>str</td><td>str</td><td>list[str]</td><td>list[str]</td><td>list[str]</td><td>i16</td><td>list[i16]</td><td>str</td><td>i32</td><td>i32</td><td>f32</td><td>f32</td><td>str</td></tr></thead><tbody><tr><td>3001353</td><td>&quot;Natascha var i…</td><td>&quot;Politiet frygt…</td><td>2023-06-29 06:20:33</td><td>false</td><td>&quot;Sagen om den ø…</td><td>2006-08-31 08:06:45</td><td>[3150850]</td><td>&quot;article_defaul…</td><td>&quot;https://ekstra…</td><td>[]</td><td>[]</td><td>[&quot;Kriminalitet&quot;, &quot;Personfarlig kriminalitet&quot;]</td><td>140</td><td>[]</td><td>&quot;krimi&quot;</td><td>null</td><td>null</td><td>null</td><td>0.9955</td><td>&quot;Negative&quot;</td></tr><tr><td>3003065</td><td>&quot;Kun Star Wars …</td><td>&quot;Biografgængern…</td><td>2023-06-29 06:20:35</td><td>false</td><td>&quot;Vatikanet har …</td><td>2006-05-21 16:57:00</td><td>[3006712]</td><td>&quot;article_defaul…</td><td>&quot;https://ekstra…</td><td>[]</td><td>[]</td><td>[&quot;Underholdning&quot;, &quot;Film og tv&quot;, &quot;Økonomi&quot;]</td><td>414</td><td>[433, 434]</td><td>&quot;underholdning&quot;</td><td>null</td><td>null</td><td>null</td><td>0.846</td><td>&quot;Positive&quot;</td></tr></tbody></table></div>"
      ],
      "text/plain": [
       "shape: (2, 21)\n",
       "┌───────────┬───────────┬───────────┬───────────┬───┬───────────┬───────────┬───────────┬──────────┐\n",
       "│ article_i ┆ title     ┆ subtitle  ┆ last_modi ┆ … ┆ total_pag ┆ total_rea ┆ sentiment ┆ sentimen │\n",
       "│ d         ┆ ---       ┆ ---       ┆ fied_time ┆   ┆ eviews    ┆ d_time    ┆ _score    ┆ t_label  │\n",
       "│ ---       ┆ str       ┆ str       ┆ ---       ┆   ┆ ---       ┆ ---       ┆ ---       ┆ ---      │\n",
       "│ i32       ┆           ┆           ┆ datetime[ ┆   ┆ i32       ┆ f32       ┆ f32       ┆ str      │\n",
       "│           ┆           ┆           ┆ μs]       ┆   ┆           ┆           ┆           ┆          │\n",
       "╞═══════════╪═══════════╪═══════════╪═══════════╪═══╪═══════════╪═══════════╪═══════════╪══════════╡\n",
       "│ 3001353   ┆ Natascha  ┆ Politiet  ┆ 2023-06-2 ┆ … ┆ null      ┆ null      ┆ 0.9955    ┆ Negative │\n",
       "│           ┆ var ikke  ┆ frygter   ┆ 9         ┆   ┆           ┆           ┆           ┆          │\n",
       "│           ┆ den       ┆ nu, at    ┆ 06:20:33  ┆   ┆           ┆           ┆           ┆          │\n",
       "│           ┆ første    ┆ Natascha… ┆           ┆   ┆           ┆           ┆           ┆          │\n",
       "│ 3003065   ┆ Kun Star  ┆ Biografgæ ┆ 2023-06-2 ┆ … ┆ null      ┆ null      ┆ 0.846     ┆ Positive │\n",
       "│           ┆ Wars      ┆ ngerne    ┆ 9         ┆   ┆           ┆           ┆           ┆          │\n",
       "│           ┆ tjente    ┆ strømmer  ┆ 06:20:35  ┆   ┆           ┆           ┆           ┆          │\n",
       "│           ┆ mere      ┆ ind for…  ┆           ┆   ┆           ┆           ┆           ┆          │\n",
       "└───────────┴───────────┴───────────┴───────────┴───┴───────────┴───────────┴───────────┴──────────┘"
      ]
     },
     "execution_count": 6,
     "metadata": {},
     "output_type": "execute_result"
    }
   ],
   "source": [
    "df_articles = pl.read_parquet(PATH.joinpath(\"ebnerd_small/articles.parquet\"))\n",
    "df_articles.head(2)"
   ]
  },
  {
   "cell_type": "markdown",
   "metadata": {},
   "source": [
    "## Init model using HuggingFace's tokenizer and wordembedding\n",
    "In the original implementation, they use the GloVe embeddings and tokenizer. To get going fast, we'll use a multilingual LLM from Hugging Face. \n",
    "Utilizing the tokenizer to tokenize the articles and the word-embedding to init NRMS.\n"
   ]
  },
  {
   "cell_type": "code",
   "execution_count": 7,
   "metadata": {},
   "outputs": [
    {
     "name": "stderr",
     "output_type": "stream",
     "text": [
      "c:\\Users\\danie\\anaconda3\\envs\\DeepLearningNew\\Lib\\site-packages\\huggingface_hub\\file_download.py:797: FutureWarning: `resume_download` is deprecated and will be removed in version 1.0.0. Downloads always resume when possible. If you want to force a new download, use `force_download=True`.\n",
      "  warnings.warn(\n",
      "c:\\Users\\danie\\anaconda3\\envs\\DeepLearningNew\\Lib\\site-packages\\huggingface_hub\\file_download.py:797: FutureWarning: `resume_download` is deprecated and will be removed in version 1.0.0. Downloads always resume when possible. If you want to force a new download, use `force_download=True`.\n",
      "  warnings.warn(\n"
     ]
    },
    {
     "name": "stdout",
     "output_type": "stream",
     "text": [
      "(250037, 384)\n"
     ]
    }
   ],
   "source": [
    "TRANSFORMER_MODEL_NAME = \"sentence-transformers/paraphrase-multilingual-MiniLM-L12-v2\"\n",
    "TEXT_COLUMNS_TO_USE = [DEFAULT_SUBTITLE_COL, DEFAULT_TITLE_COL]\n",
    "MAX_TITLE_LENGTH = 30\n",
    "\n",
    "# LOAD HUGGINGFACE:\n",
    "transformer_model = AutoModel.from_pretrained(TRANSFORMER_MODEL_NAME)\n",
    "transformer_tokenizer = AutoTokenizer.from_pretrained(TRANSFORMER_MODEL_NAME)\n",
    "\n",
    "# We'll init the word embeddings using the\n",
    "word2vec_embedding = get_transformers_word_embeddings(transformer_model)\n",
    "print(word2vec_embedding.shape)\n",
    "#\n",
    "df_articles, cat_cal = concat_str_columns(df_articles, columns=TEXT_COLUMNS_TO_USE)\n",
    "df_articles, token_col_title = convert_text2encoding_with_transformers(\n",
    "    df_articles, transformer_tokenizer, cat_cal, max_length=MAX_TITLE_LENGTH\n",
    ")\n",
    "# =>\n",
    "article_mapping = create_article_id_to_value_mapping(\n",
    "    df=df_articles, value_col=token_col_title\n",
    ")"
   ]
  },
  {
   "cell_type": "markdown",
   "metadata": {},
   "source": [
    "# Initiate the dataloaders\n",
    "In the implementations we have disconnected the models and data. Hence, you should built a dataloader that fits your needs."
   ]
  },
  {
   "cell_type": "code",
   "execution_count": 8,
   "metadata": {},
   "outputs": [],
   "source": [
    "train_dataloader = NRMSDataLoader(\n",
    "    behaviors=df_train,\n",
    "    article_dict=article_mapping,\n",
    "    unknown_representation=\"zeros\",\n",
    "    history_column=DEFAULT_HISTORY_ARTICLE_ID_COL,\n",
    "    eval_mode=False,\n",
    "    batch_size=hparams_nrms.batch_size,\n",
    ")\n",
    "val_dataloader = NRMSDataLoader(\n",
    "    behaviors=df_validation,\n",
    "    article_dict=article_mapping,\n",
    "    unknown_representation=\"zeros\",\n",
    "    history_column=DEFAULT_HISTORY_ARTICLE_ID_COL,\n",
    "    eval_mode=True,\n",
    "    batch_size=hparams_nrms.batch_size,\n",
    ")"
   ]
  },
  {
   "cell_type": "code",
   "execution_count": 9,
   "metadata": {},
   "outputs": [
    {
     "name": "stdout",
     "output_type": "stream",
     "text": [
      "Hyperparameters:\n",
      "Learning rate: 0.001\n",
      "Batch size: 8\n",
      "Epochs: 10\n",
      "Weight decay: 1e-06\n",
      "Head dimension: 8\n",
      "Head number: 8\n"
     ]
    }
   ],
   "source": [
    "def print_hparams(hparams):\n",
    "    print(\"Hyperparameters:\")\n",
    "    print(f\"Learning rate: {hparams.learning_rate}\")\n",
    "    print(f\"Batch size: {hparams.batch_size}\")\n",
    "    print(f\"Epochs: {hparams.epochs}\")\n",
    "    print(f\"Weight decay: {hparams.weight_decay}\")\n",
    "    print(f\"Head dimension: {hparams.head_dim}\")\n",
    "    print(f\"Head number: {hparams.head_num}\")\n",
    "    \n",
    "        \n",
    "print_hparams(hparams_nrms)"
   ]
  },
  {
   "cell_type": "markdown",
   "metadata": {},
   "source": [
    "## Train the model\n"
   ]
  },
  {
   "cell_type": "code",
   "execution_count": null,
   "metadata": {},
   "outputs": [
    {
     "name": "stdout",
     "output_type": "stream",
     "text": [
      "NRMSModel(\n",
      "  (embedding): Embedding(250037, 384)\n",
      "  (encode_news): NewsEncoder(\n",
      "    (embedding): Embedding(250037, 384)\n",
      "    (dropout): Dropout(p=0.2, inplace=False)\n",
      "    (multihead_attention): MultiheadAttention(\n",
      "      (out_proj): NonDynamicallyQuantizableLinear(in_features=384, out_features=384, bias=True)\n",
      "    )\n",
      "    (attention): AttLayer2()\n",
      "  )\n",
      "  (user_encoder): UserEncoder(\n",
      "    (multihead_attention): MultiheadAttention(\n",
      "      (out_proj): NonDynamicallyQuantizableLinear(in_features=384, out_features=384, bias=True)\n",
      "    )\n",
      "    (additive_attention): AttLayer2()\n",
      "    (dropout): Dropout(p=0.2, inplace=False)\n",
      "    (batch_norm_attention): BatchNorm1d(384, eps=1e-05, momentum=0.1, affine=True, track_running_stats=True)\n",
      "  )\n",
      ")\n",
      "Parameter: embedding.weight, Requires Grad: False, Shape: torch.Size([250037, 384])\n",
      "Parameter: encode_news.embedding.weight, Requires Grad: False, Shape: torch.Size([250037, 384])\n",
      "Parameter: encode_news.multihead_attention.in_proj_weight, Requires Grad: True, Shape: torch.Size([1152, 384])\n",
      "Parameter: encode_news.multihead_attention.in_proj_bias, Requires Grad: True, Shape: torch.Size([1152])\n",
      "Parameter: encode_news.multihead_attention.out_proj.weight, Requires Grad: True, Shape: torch.Size([384, 384])\n",
      "Parameter: encode_news.multihead_attention.out_proj.bias, Requires Grad: True, Shape: torch.Size([384])\n",
      "Parameter: encode_news.attention.W, Requires Grad: True, Shape: torch.Size([384, 384])\n",
      "Parameter: encode_news.attention.b, Requires Grad: True, Shape: torch.Size([384])\n",
      "Parameter: encode_news.attention.q, Requires Grad: True, Shape: torch.Size([384, 1])\n",
      "Parameter: user_encoder.multihead_attention.in_proj_weight, Requires Grad: True, Shape: torch.Size([1152, 384])\n",
      "Parameter: user_encoder.multihead_attention.in_proj_bias, Requires Grad: True, Shape: torch.Size([1152])\n",
      "Parameter: user_encoder.multihead_attention.out_proj.weight, Requires Grad: True, Shape: torch.Size([384, 384])\n",
      "Parameter: user_encoder.multihead_attention.out_proj.bias, Requires Grad: True, Shape: torch.Size([384])\n",
      "Parameter: user_encoder.additive_attention.W, Requires Grad: True, Shape: torch.Size([384, 384])\n",
      "Parameter: user_encoder.additive_attention.b, Requires Grad: True, Shape: torch.Size([384])\n",
      "Parameter: user_encoder.additive_attention.q, Requires Grad: True, Shape: torch.Size([384, 1])\n",
      "Parameter: user_encoder.batch_norm_attention.weight, Requires Grad: True, Shape: torch.Size([384])\n",
      "Parameter: user_encoder.batch_norm_attention.bias, Requires Grad: True, Shape: torch.Size([384])\n",
      "Epoch: 1/10\n",
      "Training loss: 8642.8905067444, Training AUC: 0.5024551665\n",
      "Training outputs: [array([0.20001236, 0.19999258, 0.20000255, 0.19999453, 0.19999799],\n",
      "      dtype=float32), array([0.19999775, 0.20000355, 0.20000027, 0.19999546, 0.20000298],\n",
      "      dtype=float32), array([0.19999947, 0.19999866, 0.20000136, 0.19999695, 0.20000361],\n",
      "      dtype=float32), array([0.1999947 , 0.20000044, 0.20000258, 0.19999953, 0.20000273],\n",
      "      dtype=float32), array([0.20000008, 0.20000106, 0.19999453, 0.200002  , 0.20000237],\n",
      "      dtype=float32), array([0.19998486, 0.20002657, 0.19998898, 0.20000131, 0.19999827],\n",
      "      dtype=float32), array([0.19999598, 0.1999977 , 0.19999473, 0.19999975, 0.20001191],\n",
      "      dtype=float32), array([0.1999997 , 0.2000074 , 0.19999279, 0.19999869, 0.2000015 ],\n",
      "      dtype=float32), array([0.20001927, 0.19998685, 0.20000204, 0.19999965, 0.19999216],\n",
      "      dtype=float32), array([0.19997676, 0.19997692, 0.19996865, 0.20000994, 0.2000678 ],\n",
      "      dtype=float32)]\n",
      "Training labels: [array([0., 0., 0., 0., 1.], dtype=float32), array([0., 0., 0., 0., 1.], dtype=float32), array([1., 0., 0., 0., 0.], dtype=float32), array([0., 0., 0., 1., 0.], dtype=float32), array([1., 0., 0., 0., 0.], dtype=float32), array([1., 0., 0., 0., 0.], dtype=float32), array([1., 0., 0., 0., 0.], dtype=float32), array([1., 0., 0., 0., 0.], dtype=float32), array([0., 1., 0., 0., 0.], dtype=float32), array([0., 0., 0., 1., 0.], dtype=float32)]\n",
      "Validation outputs: [0.44546655, 0.44528282, 0.44569474, 0.445297, 0.44425815, 0.44523033, 0.44508925, 0.44539705, 0.4452996, 0.44171947]\n",
      "Validation labels: [array([0.], dtype=float32), array([0.], dtype=float32), array([1.], dtype=float32), array([0.], dtype=float32), array([0.], dtype=float32), array([0.], dtype=float32), array([0.], dtype=float32), array([0.], dtype=float32), array([0.], dtype=float32), array([0.], dtype=float32)]\n",
      "Validation loss: 21.6618652344, Validation AUC: 0.4953136135\n",
      "--------------------------\n",
      "\n",
      "Epoch: 2/10\n",
      "Training loss: 8640.7164001465, Training AUC: 0.5012809564\n",
      "Training outputs: [array([0.21212833, 0.20458892, 0.1986391 , 0.18967097, 0.19497266],\n",
      "      dtype=float32), array([0.19722329, 0.19524112, 0.21430501, 0.19650313, 0.1967274 ],\n",
      "      dtype=float32), array([0.19601543, 0.19430667, 0.19591948, 0.20623668, 0.20752175],\n",
      "      dtype=float32), array([0.20835526, 0.20464996, 0.19699138, 0.19502904, 0.19497435],\n",
      "      dtype=float32), array([0.2027556 , 0.20314327, 0.20621967, 0.18963929, 0.1982422 ],\n",
      "      dtype=float32), array([0.20205796, 0.18984924, 0.20789342, 0.1962537 , 0.20394567],\n",
      "      dtype=float32), array([0.20259985, 0.20115133, 0.20148382, 0.19605863, 0.19870631],\n",
      "      dtype=float32), array([0.19532031, 0.20147763, 0.20507155, 0.1993381 , 0.1987924 ],\n",
      "      dtype=float32), array([0.18690267, 0.209186  , 0.20913586, 0.22124703, 0.17352843],\n",
      "      dtype=float32), array([0.20282085, 0.1866213 , 0.2010605 , 0.21494393, 0.19455335],\n",
      "      dtype=float32)]\n",
      "Training labels: [array([0., 0., 0., 0., 1.], dtype=float32), array([0., 0., 0., 0., 1.], dtype=float32), array([1., 0., 0., 0., 0.], dtype=float32), array([0., 0., 0., 1., 0.], dtype=float32), array([1., 0., 0., 0., 0.], dtype=float32), array([1., 0., 0., 0., 0.], dtype=float32), array([1., 0., 0., 0., 0.], dtype=float32), array([1., 0., 0., 0., 0.], dtype=float32), array([0., 1., 0., 0., 0.], dtype=float32), array([0., 0., 0., 1., 0.], dtype=float32)]\n",
      "Validation outputs: [0.45236424, 0.4515975, 0.45016062, 0.45175117, 0.4541077, 0.4528504, 0.45228532, 0.45120215, 0.45140114, 0.46972713]\n",
      "Validation labels: [array([0.], dtype=float32), array([0.], dtype=float32), array([1.], dtype=float32), array([0.], dtype=float32), array([0.], dtype=float32), array([0.], dtype=float32), array([0.], dtype=float32), array([0.], dtype=float32), array([0.], dtype=float32), array([0.], dtype=float32)]\n",
      "Validation loss: 21.6768035889, Validation AUC: 0.4805709124\n",
      "--------------------------\n",
      "\n",
      "Epoch: 3/10\n",
      "Training loss: 8641.5283088684, Training AUC: 0.5214560205\n",
      "Training outputs: [array([0.18807812, 0.17616847, 0.2221952 , 0.22056216, 0.19299597],\n",
      "      dtype=float32), array([0.23865113, 0.19769694, 0.18176046, 0.19746377, 0.1844277 ],\n",
      "      dtype=float32), array([0.20105815, 0.20705372, 0.2167249 , 0.19589218, 0.17927106],\n",
      "      dtype=float32), array([0.19095415, 0.19757232, 0.19845477, 0.20800065, 0.20501818],\n",
      "      dtype=float32), array([0.19992627, 0.19972587, 0.18794881, 0.1957796 , 0.21661946],\n",
      "      dtype=float32), array([0.18470925, 0.22116579, 0.20588742, 0.20167342, 0.18656419],\n",
      "      dtype=float32), array([0.21074188, 0.18468206, 0.19325177, 0.22105564, 0.19026862],\n",
      "      dtype=float32), array([0.18951638, 0.19591989, 0.21145329, 0.21891484, 0.18419562],\n",
      "      dtype=float32), array([0.20024109, 0.21061307, 0.1891423 , 0.19055115, 0.20945244],\n",
      "      dtype=float32), array([0.20240892, 0.19085073, 0.19477049, 0.2040197 , 0.2079502 ],\n",
      "      dtype=float32)]\n",
      "Training labels: [array([0., 0., 0., 0., 1.], dtype=float32), array([0., 0., 0., 0., 1.], dtype=float32), array([1., 0., 0., 0., 0.], dtype=float32), array([0., 0., 0., 1., 0.], dtype=float32), array([1., 0., 0., 0., 0.], dtype=float32), array([1., 0., 0., 0., 0.], dtype=float32), array([1., 0., 0., 0., 0.], dtype=float32), array([1., 0., 0., 0., 0.], dtype=float32), array([0., 1., 0., 0., 0.], dtype=float32), array([0., 0., 0., 1., 0.], dtype=float32)]\n",
      "Validation outputs: [0.99991345, 0.0100080045, 0.38459164, 0.012547295, 0.011031967, 0.8825961, 0.009577408, 0.026392173, 0.07045992, 0.024496878]\n",
      "Validation labels: [array([0.], dtype=float32), array([0.], dtype=float32), array([1.], dtype=float32), array([0.], dtype=float32), array([0.], dtype=float32), array([0.], dtype=float32), array([0.], dtype=float32), array([0.], dtype=float32), array([0.], dtype=float32), array([0.], dtype=float32)]\n",
      "Validation loss: 22.6528968811, Validation AUC: 0.5149992193\n",
      "--------------------------\n",
      "\n",
      "Epoch: 4/10\n",
      "Training loss: 8649.0525493622, Training AUC: 0.5298889838\n",
      "Training outputs: [array([9.9066972e-07, 2.8794003e-04, 2.4885374e-01, 7.5085545e-01,\n",
      "       1.8832463e-06], dtype=float32), array([1.5200820e-06, 5.0981166e-06, 5.3937561e-03, 2.4086048e-06,\n",
      "       9.9459720e-01], dtype=float32), array([3.5844088e-05, 9.1744325e-05, 2.5789955e-04, 3.0932060e-01,\n",
      "       6.9029391e-01], dtype=float32), array([8.9228233e-14, 2.2810817e-15, 1.0000000e+00, 6.5008995e-15,\n",
      "       1.1933329e-15], dtype=float32), array([8.7226417e-06, 1.6290693e-05, 1.1946566e-05, 1.5404523e-05,\n",
      "       9.9994767e-01], dtype=float32), array([0.02349142, 0.6242198 , 0.00700743, 0.14081995, 0.20446141],\n",
      "      dtype=float32), array([9.5212847e-02, 1.4591340e-03, 4.8288182e-04, 9.0241790e-01,\n",
      "       4.2713655e-04], dtype=float32), array([0.00135914, 0.00455607, 0.2983386 , 0.08040358, 0.6153426 ],\n",
      "      dtype=float32), array([1.3189713e-10, 9.6580561e-06, 9.9999034e-01, 8.9673374e-10,\n",
      "       7.9685716e-09], dtype=float32), array([6.4668368e-04, 6.5193820e-01, 6.2019436e-04, 3.4333786e-01,\n",
      "       3.4570741e-03], dtype=float32)]\n",
      "Training labels: [array([0., 0., 0., 0., 1.], dtype=float32), array([0., 0., 0., 0., 1.], dtype=float32), array([1., 0., 0., 0., 0.], dtype=float32), array([0., 0., 0., 1., 0.], dtype=float32), array([1., 0., 0., 0., 0.], dtype=float32), array([1., 0., 0., 0., 0.], dtype=float32), array([1., 0., 0., 0., 0.], dtype=float32), array([1., 0., 0., 0., 0.], dtype=float32), array([0., 1., 0., 0., 0.], dtype=float32), array([0., 0., 0., 1., 0.], dtype=float32)]\n",
      "Validation outputs: [6.481242e-05, 6.772929e-05, 6.818012e-05, 4.6559257e-05, 6.957072e-05, 6.0466602e-05, 7.0141745e-05, 5.3282747e-05, 6.6437875e-05, 3.8711463e-05]\n",
      "Validation labels: [array([0.], dtype=float32), array([0.], dtype=float32), array([1.], dtype=float32), array([0.], dtype=float32), array([0.], dtype=float32), array([0.], dtype=float32), array([0.], dtype=float32), array([0.], dtype=float32), array([0.], dtype=float32), array([0.], dtype=float32)]\n",
      "Validation loss: 21.6654930115, Validation AUC: 0.4887155655\n",
      "--------------------------\n",
      "\n",
      "Epoch: 5/10\n",
      "Training loss: 8589.0151119232, Training AUC: 0.5529461998\n",
      "Training outputs: [array([0.24391955, 0.23837939, 0.23063906, 0.13584521, 0.15121683],\n",
      "      dtype=float32), array([0.05267153, 0.343681  , 0.2634905 , 0.20685731, 0.1332997 ],\n",
      "      dtype=float32), array([0.08895535, 0.24505067, 0.32585344, 0.0848368 , 0.25530374],\n",
      "      dtype=float32), array([0.04555126, 0.20958938, 0.1429616 , 0.32052052, 0.28137726],\n",
      "      dtype=float32), array([0.28637728, 0.15503255, 0.26562214, 0.18141308, 0.11155495],\n",
      "      dtype=float32), array([0.16394468, 0.18167871, 0.25591794, 0.27953514, 0.1189235 ],\n",
      "      dtype=float32), array([0.61040384, 0.09827331, 0.09065025, 0.09218128, 0.10849125],\n",
      "      dtype=float32), array([0.12837064, 0.24150525, 0.28644878, 0.09175899, 0.25191632],\n",
      "      dtype=float32), array([0.21429452, 0.17438811, 0.32765415, 0.17830615, 0.10535705],\n",
      "      dtype=float32), array([0.17190596, 0.25626543, 0.31754357, 0.11067784, 0.14360718],\n",
      "      dtype=float32)]\n",
      "Training labels: [array([0., 0., 0., 0., 1.], dtype=float32), array([0., 0., 0., 0., 1.], dtype=float32), array([1., 0., 0., 0., 0.], dtype=float32), array([0., 0., 0., 1., 0.], dtype=float32), array([1., 0., 0., 0., 0.], dtype=float32), array([1., 0., 0., 0., 0.], dtype=float32), array([1., 0., 0., 0., 0.], dtype=float32), array([1., 0., 0., 0., 0.], dtype=float32), array([0., 1., 0., 0., 0.], dtype=float32), array([0., 0., 0., 1., 0.], dtype=float32)]\n",
      "Validation outputs: [0.00833482, 0.96739066, 0.759218, 0.98800176, 0.9886996, 0.9805248, 0.943795, 0.37040427, 0.9667795, 0.4638973]\n",
      "Validation labels: [array([0.], dtype=float32), array([0.], dtype=float32), array([1.], dtype=float32), array([0.], dtype=float32), array([0.], dtype=float32), array([0.], dtype=float32), array([0.], dtype=float32), array([0.], dtype=float32), array([0.], dtype=float32), array([0.], dtype=float32)]\n",
      "Validation loss: 22.6877098083, Validation AUC: 0.4884163667\n",
      "--------------------------\n",
      "\n",
      "Epoch: 6/10\n",
      "Training loss: 8528.4629859924, Training AUC: 0.5790990606\n",
      "Training outputs: [array([7.5534418e-10, 1.0160243e-03, 9.2777284e-03, 1.4493078e-02,\n",
      "       9.7521317e-01], dtype=float32), array([7.3216075e-01, 2.2696243e-01, 1.7268784e-02, 2.3608066e-02,\n",
      "       1.4262176e-10], dtype=float32), array([9.7923063e-02, 3.7339384e-10, 8.8710409e-01, 8.8673485e-03,\n",
      "       6.1055361e-03], dtype=float32), array([1.5079878e-04, 7.7065785e-04, 5.0428915e-03, 9.9232131e-01,\n",
      "       1.7143353e-03], dtype=float32), array([9.9473959e-01, 4.8146120e-10, 3.1612915e-09, 2.4090514e-09,\n",
      "       5.2603981e-03], dtype=float32), array([7.1027911e-01, 2.4485402e-01, 4.4594180e-02, 2.1169360e-07,\n",
      "       2.7246115e-04], dtype=float32), array([1.1244065e-03, 3.9326093e-01, 4.8172020e-04, 6.0492432e-01,\n",
      "       2.0867158e-04], dtype=float32), array([1.0478541e-01, 1.8548930e-02, 3.9594110e-05, 1.9051452e-09,\n",
      "       8.7662613e-01], dtype=float32), array([1.0067944e-07, 2.8863047e-07, 2.5916591e-03, 5.3989607e-01,\n",
      "       4.5751190e-01], dtype=float32), array([2.3368423e-09, 9.9999499e-01, 4.0534296e-08, 4.9682226e-06,\n",
      "       4.1823922e-09], dtype=float32)]\n",
      "Training labels: [array([0., 0., 0., 0., 1.], dtype=float32), array([0., 0., 0., 0., 1.], dtype=float32), array([1., 0., 0., 0., 0.], dtype=float32), array([0., 0., 0., 1., 0.], dtype=float32), array([1., 0., 0., 0., 0.], dtype=float32), array([1., 0., 0., 0., 0.], dtype=float32), array([1., 0., 0., 0., 0.], dtype=float32), array([1., 0., 0., 0., 0.], dtype=float32), array([0., 1., 0., 0., 0.], dtype=float32), array([0., 0., 0., 1., 0.], dtype=float32)]\n",
      "Validation outputs: [1.5898602e-06, 0.00016835552, 6.5645954e-06, 0.001539057, 0.0003484461, 0.0010266287, 0.00011253256, 6.3844946e-06, 0.0001005593, 0.000119303106]\n",
      "Validation labels: [array([0.], dtype=float32), array([0.], dtype=float32), array([1.], dtype=float32), array([0.], dtype=float32), array([0.], dtype=float32), array([0.], dtype=float32), array([0.], dtype=float32), array([0.], dtype=float32), array([0.], dtype=float32), array([0.], dtype=float32)]\n",
      "Validation loss: 21.7341499329, Validation AUC: 0.4960060074\n",
      "--------------------------\n",
      "\n",
      "Epoch: 7/10\n",
      "Training loss: 8460.4300670624, Training AUC: 0.6058390265\n",
      "Training outputs: [array([4.9155561e-04, 4.8912584e-04, 4.6065901e-03, 4.5752074e-03,\n",
      "       9.8983747e-01], dtype=float32), array([3.20157856e-02, 1.29709635e-02, 9.53042328e-01, 1.03455305e-03,\n",
      "       9.36318072e-04], dtype=float32), array([9.5079744e-01, 5.9860072e-06, 4.8911504e-02, 2.6822474e-04,\n",
      "       1.6896156e-05], dtype=float32), array([1.2934108e-04, 1.8830378e-04, 4.0584826e-05, 9.9938083e-01,\n",
      "       2.6088872e-04], dtype=float32), array([9.1846436e-01, 3.6861125e-02, 8.1300724e-04, 1.4250941e-02,\n",
      "       2.9610502e-02], dtype=float32), array([9.8908442e-01, 4.1810548e-05, 1.0872683e-02, 9.2699368e-09,\n",
      "       1.0459902e-06], dtype=float32), array([3.4011307e-05, 9.9030626e-01, 1.3469922e-04, 9.3311435e-03,\n",
      "       1.9384094e-04], dtype=float32), array([8.3976346e-01, 2.4296590e-03, 1.9500827e-03, 2.4566677e-07,\n",
      "       1.5585658e-01], dtype=float32), array([1.3600224e-02, 3.3211476e-05, 2.6456413e-03, 4.0929049e-01,\n",
      "       5.7443047e-01], dtype=float32), array([1.5012248e-03, 9.9835759e-01, 8.5833753e-06, 6.6952857e-08,\n",
      "       1.3245425e-04], dtype=float32)]\n",
      "Training labels: [array([0., 0., 0., 0., 1.], dtype=float32), array([0., 0., 0., 0., 1.], dtype=float32), array([1., 0., 0., 0., 0.], dtype=float32), array([0., 0., 0., 1., 0.], dtype=float32), array([1., 0., 0., 0., 0.], dtype=float32), array([1., 0., 0., 0., 0.], dtype=float32), array([1., 0., 0., 0., 0.], dtype=float32), array([1., 0., 0., 0., 0.], dtype=float32), array([0., 1., 0., 0., 0.], dtype=float32), array([0., 0., 0., 1., 0.], dtype=float32)]\n",
      "Validation outputs: [1.9385286e-07, 1.4678149e-05, 1.0498559e-07, 3.3676984e-05, 2.645868e-05, 0.00017563753, 1.6841273e-05, 5.7717045e-07, 1.9064057e-06, 2.0100774e-08]\n",
      "Validation labels: [array([0.], dtype=float32), array([0.], dtype=float32), array([1.], dtype=float32), array([0.], dtype=float32), array([0.], dtype=float32), array([0.], dtype=float32), array([0.], dtype=float32), array([0.], dtype=float32), array([0.], dtype=float32), array([0.], dtype=float32)]\n",
      "Validation loss: 21.7460994720, Validation AUC: 0.4971171942\n",
      "--------------------------\n",
      "\n",
      "Epoch: 8/10\n",
      "Training loss: 8410.9973545074, Training AUC: 0.6157130658\n",
      "Training outputs: [array([9.8713852e-02, 2.1604898e-04, 2.0168481e-02, 2.1767061e-02,\n",
      "       8.5913450e-01], dtype=float32), array([4.7658471e-04, 2.6066563e-04, 9.9921501e-01, 3.7894464e-05,\n",
      "       9.8976443e-06], dtype=float32), array([9.0509826e-01, 2.2466368e-06, 8.7842122e-02, 1.1195486e-03,\n",
      "       5.9377998e-03], dtype=float32), array([1.2308072e-04, 2.9583537e-04, 5.4431319e-05, 9.9945956e-01,\n",
      "       6.7142202e-05], dtype=float32), array([0.44212693, 0.00655778, 0.02546661, 0.00174294, 0.5241057 ],\n",
      "      dtype=float32), array([2.7627507e-01, 3.8402963e-02, 6.8531895e-01, 1.3187147e-06,\n",
      "       1.7520051e-06], dtype=float32), array([7.3701040e-06, 9.8654556e-01, 3.4880088e-07, 1.3438161e-02,\n",
      "       8.5579868e-06], dtype=float32), array([5.1422024e-01, 1.7977949e-03, 8.2352169e-02, 1.0378671e-04,\n",
      "       4.0152603e-01], dtype=float32), array([0.00877379, 0.49473664, 0.03511313, 0.14698605, 0.31439036],\n",
      "      dtype=float32), array([1.0171282e-06, 9.9998593e-01, 9.2526579e-06, 6.0261116e-11,\n",
      "       3.7856328e-06], dtype=float32)]\n",
      "Training labels: [array([0., 0., 0., 0., 1.], dtype=float32), array([0., 0., 0., 0., 1.], dtype=float32), array([1., 0., 0., 0., 0.], dtype=float32), array([0., 0., 0., 1., 0.], dtype=float32), array([1., 0., 0., 0., 0.], dtype=float32), array([1., 0., 0., 0., 0.], dtype=float32), array([1., 0., 0., 0., 0.], dtype=float32), array([1., 0., 0., 0., 0.], dtype=float32), array([0., 1., 0., 0., 0.], dtype=float32), array([0., 0., 0., 1., 0.], dtype=float32)]\n",
      "Validation outputs: [4.3945604e-19, 1.3757568e-15, 2.8993797e-19, 2.1408335e-13, 2.4557349e-15, 1.00050854e-13, 3.1780253e-14, 9.191671e-19, 2.2434862e-19, 1.1173469e-17]\n",
      "Validation labels: [array([0.], dtype=float32), array([0.], dtype=float32), array([1.], dtype=float32), array([0.], dtype=float32), array([0.], dtype=float32), array([0.], dtype=float32), array([0.], dtype=float32), array([0.], dtype=float32), array([0.], dtype=float32), array([0.], dtype=float32)]\n",
      "Validation loss: 21.6655731201, Validation AUC: 0.5069564554\n",
      "--------------------------\n",
      "\n",
      "Epoch: 9/10\n",
      "Training loss: 8390.4374904633, Training AUC: 0.6195559351\n",
      "Training outputs: [array([2.6689942e-05, 6.0328794e-06, 9.5833875e-02, 8.9899592e-02,\n",
      "       8.1423384e-01], dtype=float32), array([7.1609758e-09, 1.6057648e-08, 1.0000000e+00, 5.1642757e-09,\n",
      "       4.9104312e-08], dtype=float32), array([9.9990904e-01, 6.0498578e-10, 6.5253039e-07, 3.2104018e-07,\n",
      "       8.9942085e-05], dtype=float32), array([5.6744706e-11, 8.6353338e-12, 3.8584933e-08, 1.0000000e+00,\n",
      "       1.6714789e-10], dtype=float32), array([6.3951939e-07, 8.9021986e-03, 9.2267200e-02, 1.5119024e-02,\n",
      "       8.8371098e-01], dtype=float32), array([9.2533910e-01, 7.0338659e-02, 4.3222527e-03, 1.1662620e-09,\n",
      "       6.4549548e-09], dtype=float32), array([3.1462758e-16, 9.2881823e-01, 6.6003369e-10, 7.1181387e-02,\n",
      "       3.2943012e-07], dtype=float32), array([2.9336668e-03, 2.4661920e-06, 3.0870843e-03, 3.1934674e-03,\n",
      "       9.9078333e-01], dtype=float32), array([2.1781820e-04, 9.7867817e-01, 3.4704789e-10, 1.4746881e-02,\n",
      "       6.3571362e-03], dtype=float32), array([6.6201858e-02, 9.2139000e-01, 5.8927182e-03, 2.4608367e-13,\n",
      "       6.5154326e-03], dtype=float32)]\n",
      "Training labels: [array([0., 0., 0., 0., 1.], dtype=float32), array([0., 0., 0., 0., 1.], dtype=float32), array([1., 0., 0., 0., 0.], dtype=float32), array([0., 0., 0., 1., 0.], dtype=float32), array([1., 0., 0., 0., 0.], dtype=float32), array([1., 0., 0., 0., 0.], dtype=float32), array([1., 0., 0., 0., 0.], dtype=float32), array([1., 0., 0., 0., 0.], dtype=float32), array([0., 1., 0., 0., 0.], dtype=float32), array([0., 0., 0., 1., 0.], dtype=float32)]\n",
      "Validation outputs: [4.444519e-13, 9.759287e-11, 4.1140715e-12, 8.783987e-10, 3.436657e-11, 1.5874853e-10, 3.923552e-10, 1.1962935e-11, 5.977754e-13, 1.2361617e-19]\n",
      "Validation labels: [array([0.], dtype=float32), array([0.], dtype=float32), array([1.], dtype=float32), array([0.], dtype=float32), array([0.], dtype=float32), array([0.], dtype=float32), array([0.], dtype=float32), array([0.], dtype=float32), array([0.], dtype=float32), array([0.], dtype=float32)]\n",
      "Validation loss: 21.6655082703, Validation AUC: 0.5215122809\n",
      "--------------------------\n",
      "\n",
      "Epoch: 10/10\n",
      "Training loss: 8298.1456375122, Training AUC: 0.6445879590\n",
      "Training outputs: [array([2.1521733e-03, 4.3267020e-04, 6.6866297e-01, 8.1320219e-02,\n",
      "       2.4743198e-01], dtype=float32), array([5.7718738e-05, 2.7878210e-05, 9.9913728e-01, 5.4598431e-04,\n",
      "       2.3109876e-04], dtype=float32), array([9.98849750e-01, 1.48551135e-05, 4.45325102e-04, 4.75067965e-04,\n",
      "       2.14906890e-04], dtype=float32), array([1.0924272e-06, 1.1111760e-07, 6.4083390e-05, 9.9993467e-01,\n",
      "       1.7401272e-08], dtype=float32), array([0.01858503, 0.0683427 , 0.3456311 , 0.22610539, 0.3413357 ],\n",
      "      dtype=float32), array([9.9693894e-01, 3.7875617e-04, 2.0822494e-03, 5.3807162e-04,\n",
      "       6.1882216e-05], dtype=float32), array([4.3147489e-07, 1.2581864e-01, 9.4067649e-04, 8.7142390e-01,\n",
      "       1.8163633e-03], dtype=float32), array([9.3088202e-02, 1.2142928e-04, 4.6542147e-03, 4.7087137e-02,\n",
      "       8.5504901e-01], dtype=float32), array([2.9615278e-03, 2.5792480e-01, 1.9670482e-05, 1.7441401e-01,\n",
      "       5.6468004e-01], dtype=float32), array([1.8956122e-03, 9.9435669e-01, 1.5992139e-03, 4.2671817e-07,\n",
      "       2.1479791e-03], dtype=float32)]\n",
      "Training labels: [array([0., 0., 0., 0., 1.], dtype=float32), array([0., 0., 0., 0., 1.], dtype=float32), array([1., 0., 0., 0., 0.], dtype=float32), array([0., 0., 0., 1., 0.], dtype=float32), array([1., 0., 0., 0., 0.], dtype=float32), array([1., 0., 0., 0., 0.], dtype=float32), array([1., 0., 0., 0., 0.], dtype=float32), array([1., 0., 0., 0., 0.], dtype=float32), array([0., 1., 0., 0., 0.], dtype=float32), array([0., 0., 0., 1., 0.], dtype=float32)]\n",
      "Validation outputs: [1.0153847e-09, 2.3319833e-06, 1.1043213e-09, 6.3690146e-05, 4.501182e-07, 3.5716587e-07, 3.114994e-06, 2.17638e-10, 8.957287e-10, 5.8128467e-12]\n",
      "Validation labels: [array([0.], dtype=float32), array([0.], dtype=float32), array([1.], dtype=float32), array([0.], dtype=float32), array([0.], dtype=float32), array([0.], dtype=float32), array([0.], dtype=float32), array([0.], dtype=float32), array([0.], dtype=float32), array([0.], dtype=float32)]\n",
      "Validation loss: 22.0215988159, Validation AUC: 0.4951515937\n",
      "--------------------------\n",
      "\n",
      "Model saved!\n"
     ]
    }
   ],
   "source": [
    "from sklearn.metrics import roc_auc_score\n",
    "import torch.nn.utils  # Ensure this is imported for gradient clipping\n",
    "\n",
    "epoch = 0\n",
    "num_epochs = hparams_nrms.epochs\n",
    "\n",
    "word2vec_embedding = torch.tensor(word2vec_embedding, dtype=torch.float32).to(device)\n",
    "\n",
    "nrms = NRMSModel(hparams_nrms=hparams_nrms, word2vec_embedding=word2vec_embedding, seed=50).to(device)  # Adding to device\n",
    "print(nrms)\n",
    "\n",
    "for name, param in nrms.named_parameters():\n",
    "    print(f\"Parameter: {name}, Requires Grad: {param.requires_grad}, Shape: {param.shape}\")\n",
    "\n",
    "\n",
    "optimizer = torch.optim.Adam(nrms.parameters(), lr=hparams_nrms.learning_rate, weight_decay=hparams_nrms.weight_decay)\n",
    "loss_fn = nn.CrossEntropyLoss()\n",
    "val_loss_fn = nn.CrossEntropyLoss()\n",
    "\n",
    "# Gradient clipping parameter\n",
    "max_norm = 5.0  # Maximum gradient norm\n",
    "\n",
    "# Training loop\n",
    "for epoch in range(num_epochs):\n",
    "    nrms.train()  # Set the model to training mode\n",
    "    running_loss = 0.0\n",
    "    all_labels = []\n",
    "    all_outputs = []\n",
    "    running_losses = []\n",
    "    \n",
    "    for i, ((his_input_title, pred_input_title), labels) in enumerate(train_dataloader):\n",
    "        his_input_title = his_input_title.to(device, dtype=torch.long)\n",
    "        pred_input_title = pred_input_title.to(device, dtype=torch.long)\n",
    "        og_labels = labels\n",
    "        labels = labels.to(device, dtype=torch.long).view(-1)\n",
    "\n",
    "        optimizer.zero_grad()  # Zero the gradients\n",
    "        outputs = nrms(his_input_title, pred_input_title).to(device)  # Forward pass\n",
    "        \n",
    "        loss = loss_fn(outputs.view(-1), labels.float())  # Compute the loss\n",
    "        loss.backward()  # Backward pass\n",
    "        loss.detach()  # Detach the loss to save memory\n",
    "        \n",
    "        # Apply gradient clipping\n",
    "        torch.nn.utils.clip_grad_norm_(nrms.parameters(), max_norm)\n",
    "\n",
    "        optimizer.step()  # Update the parameters\n",
    "        running_loss += loss.item()\n",
    "        running_losses.append(loss.item())\n",
    "    \n",
    "        \n",
    "        # Detach tensors immediately after use to save memory\n",
    "        his_input_title.detach()\n",
    "        pred_input_title.detach()\n",
    "        labels.detach()\n",
    "        \n",
    "        # Save labels and outputs for AUC calculation\n",
    "        all_labels.extend(og_labels.detach().cpu().numpy())\n",
    "        all_outputs.extend(outputs.detach().cpu().numpy())\n",
    "        \n",
    "        del his_input_title, pred_input_title, labels, loss, outputs, og_labels\n",
    "        torch.cuda.empty_cache()  # Clear unused GPU memory\n",
    "\n",
    "    # Calculate AUC score\n",
    "    auc = 0\n",
    "    for i, label_true in enumerate(all_labels):\n",
    "        auc += roc_auc_score(label_true, all_outputs[i])\n",
    "    auc /= len(all_labels)\n",
    "    \n",
    "    # Print training details\n",
    "    print(f\"Epoch: {epoch + 1}/{num_epochs}\")\n",
    "    print(f\"Training loss: {running_loss:.10f}, Training AUC: {auc:.10f}\")\n",
    "    # print(f\"Training outputs: {all_outputs[:10]}\")\n",
    "    # print(f\"Training labels: {all_labels[:10]}\")\n",
    "\n",
    "    # Validation loop\n",
    "    nrms.eval()  # Set the model to evaluation mode\n",
    "    all_labels = []\n",
    "    all_outputs = []\n",
    "    val_loss = 0.0\n",
    "    validation_losses = []\n",
    "    with torch.no_grad():\n",
    "        for i, ((his_input_title, pred_input_title), labels) in enumerate(val_dataloader):\n",
    "            his_input_title = his_input_title.to(device, dtype=torch.long)\n",
    "            pred_input_title = pred_input_title.to(device, dtype=torch.long)\n",
    "            og_labels = labels\n",
    "            labels = labels.to(device, dtype=torch.long).view(-1)\n",
    "\n",
    "            outputs = nrms(his_input_title, pred_input_title).to(device)  # Forward pass\n",
    "            loss = val_loss_fn(outputs.view(-1), labels.float())\n",
    "            val_loss = loss.item()\n",
    "            validation_losses.append(loss.item())\n",
    "\n",
    "            all_labels.extend(og_labels.cpu().numpy())\n",
    "            all_outputs.extend(outputs.cpu().numpy())\n",
    "            \n",
    "            # Detach tensors immediately after use to save memory\n",
    "            his_input_title = his_input_title.detach()\n",
    "            pred_input_title = pred_input_title.detach()\n",
    "            labels = labels.detach()\n",
    "            outputs = outputs.detach()\n",
    "            del his_input_title, pred_input_title, labels, outputs\n",
    "            torch.cuda.empty_cache()\n",
    "            \n",
    "    # Calculate AUC score\n",
    "    auc = roc_auc_score(all_labels, all_outputs)\n",
    "    \n",
    "    # print(f\"Validation outputs: {all_outputs[:10]}\")\n",
    "    # print(f\"Validation labels: {all_labels[:10]}\")\n",
    "    \n",
    "    # Print validation details\n",
    "    print(f\"Validation loss: {val_loss:.10f}, Validation AUC: {auc:.10f}\")\n",
    "    print(f\"--------------------------\\n\")\n",
    "        \n",
    "\n",
    "# Save the model\n",
    "torch.save(nrms.state_dict(), \"nrms_model.pth\")\n",
    "print(\"Model saved!\")\n",
    "\n",
    "        \n",
    "\n"
   ]
  },
  {
   "cell_type": "code",
   "execution_count": null,
   "metadata": {},
   "outputs": [
    {
     "ename": "AttributeError",
     "evalue": "'float' object has no attribute 'shape'",
     "output_type": "error",
     "traceback": [
      "\u001b[1;31m---------------------------------------------------------------------------\u001b[0m",
      "\u001b[1;31mAttributeError\u001b[0m                            Traceback (most recent call last)",
      "Cell \u001b[1;32mIn[16], line 5\u001b[0m\n\u001b[0;32m      2\u001b[0m \u001b[38;5;28;01mimport\u001b[39;00m \u001b[38;5;21;01mmatplotlib\u001b[39;00m\u001b[38;5;21;01m.\u001b[39;00m\u001b[38;5;21;01mpyplot\u001b[39;00m \u001b[38;5;28;01mas\u001b[39;00m \u001b[38;5;21;01mplt\u001b[39;00m\n\u001b[0;32m      4\u001b[0m plt\u001b[38;5;241m.\u001b[39mtitle(\u001b[38;5;124mf\u001b[39m\u001b[38;5;124m\"\u001b[39m\u001b[38;5;124mTraining Loss vs Validation Loss with BS=\u001b[39m\u001b[38;5;132;01m{\u001b[39;00mhparams_nrms\u001b[38;5;241m.\u001b[39mbatch_size\u001b[38;5;132;01m}\u001b[39;00m\u001b[38;5;124m, LR=\u001b[39m\u001b[38;5;132;01m{\u001b[39;00mhparams_nrms\u001b[38;5;241m.\u001b[39mlearning_rate\u001b[38;5;132;01m}\u001b[39;00m\u001b[38;5;124m, WD=\u001b[39m\u001b[38;5;132;01m{\u001b[39;00mhparams_nrms\u001b[38;5;241m.\u001b[39mweight_decay\u001b[38;5;132;01m}\u001b[39;00m\u001b[38;5;124m, HD=\u001b[39m\u001b[38;5;132;01m{\u001b[39;00mhparams_nrms\u001b[38;5;241m.\u001b[39mhead_dim\u001b[38;5;132;01m}\u001b[39;00m\u001b[38;5;124m, HN=\u001b[39m\u001b[38;5;132;01m{\u001b[39;00mhparams_nrms\u001b[38;5;241m.\u001b[39mhead_num\u001b[38;5;132;01m}\u001b[39;00m\u001b[38;5;124m, HS=\u001b[39m\u001b[38;5;132;01m{\u001b[39;00mhparams_nrms\u001b[38;5;241m.\u001b[39mhistory_size\u001b[38;5;132;01m}\u001b[39;00m\u001b[38;5;124m\"\u001b[39m)\n\u001b[1;32m----> 5\u001b[0m \u001b[38;5;28mprint\u001b[39m(\u001b[38;5;124mf\u001b[39m\u001b[38;5;124m\"\u001b[39m\u001b[38;5;124mrunning loss: \u001b[39m\u001b[38;5;132;01m{\u001b[39;00m\u001b[43mrunning_loss\u001b[49m\u001b[38;5;241;43m.\u001b[39;49m\u001b[43mshape\u001b[49m\u001b[38;5;132;01m}\u001b[39;00m\u001b[38;5;124m\"\u001b[39m)\n\u001b[0;32m      6\u001b[0m plt\u001b[38;5;241m.\u001b[39mplot(\u001b[38;5;28mrange\u001b[39m(\u001b[38;5;241m1\u001b[39m, num_epochs \u001b[38;5;241m+\u001b[39m \u001b[38;5;241m1\u001b[39m), running_loss, label\u001b[38;5;241m=\u001b[39m\u001b[38;5;124m\"\u001b[39m\u001b[38;5;124mTraining Loss\u001b[39m\u001b[38;5;124m\"\u001b[39m)\n\u001b[0;32m      7\u001b[0m plt\u001b[38;5;241m.\u001b[39mxlabel(\u001b[38;5;124m\"\u001b[39m\u001b[38;5;124mEpoch\u001b[39m\u001b[38;5;124m\"\u001b[39m)\n",
      "\u001b[1;31mAttributeError\u001b[0m: 'float' object has no attribute 'shape'"
     ]
    },
    {
     "data": {
      "image/png": "[encoded data removed]",
      "text/plain": [
       "<Figure size 640x480 with 1 Axes>"
      ]
     },
     "metadata": {},
     "output_type": "display_data"
    }
   ],
   "source": [
    "# Plot the training loss and validation loss\n",
    "import matplotlib.pyplot as plt\n",
    "\n",
    "plt.title(f\"Training Loss vs Validation Loss with BS={hparams_nrms.batch_size}, LR={hparams_nrms.learning_rate}, WD={hparams_nrms.weight_decay}, HD={hparams_nrms.head_dim}, HN={hparams_nrms.head_num}, HS={hparams_nrms.history_size}\")\n",
    "plt.plot(range(1, num_epochs + 1), running_losses, label=\"Training Loss\")\n",
    "plt.xlabel(\"Epoch\")\n",
    "plt.ylabel(\"Loss\")\n",
    "plt.plot(range(1, num_epochs + 1), validation_losses, label=\"Validation Loss\")\n",
    "plt.legend()\n",
    "plt.show()\n",
    "plt.savefig(f\"loss_bs{hparams_nrms.batch_size}_lr{hparams_nrms.learning_rate}_wd{hparams_nrms.weight_decay}_hd{hparams_nrms.head_dim}_hn{hparams_nrms.head_num}_hs{hparams_nrms.history_size}.png\")"
   ]
  },
  {
   "cell_type": "code",
   "execution_count": 12,
   "metadata": {},
   "outputs": [
    {
     "data": {
      "image/png": "[encoded data removed]",
      "text/plain": [
       "<Figure size 640x480 with 1 Axes>"
      ]
     },
     "metadata": {},
     "output_type": "display_data"
    },
    {
     "data": {
      "text/plain": [
       "<Figure size 640x480 with 0 Axes>"
      ]
     },
     "metadata": {},
     "output_type": "display_data"
    }
   ],
   "source": [
    "# Plot the training AUC and validation AUC\n",
    "plt.title(f\"Training AUC vs Validation AUC with BS={hparams_nrms.batch_size}, LR={hparams_nrms.learning_rate}, WD={hparams_nrms.weight_decay}, HD={hparams_nrms.head_dim}, HN={hparams_nrms.head_num}, HS={hparams_nrms.history_size}\")\n",
    "plt.plot(auc, label=\"Training AUC\")\n",
    "plt.plot(auc, label=\"Validation AUC\")\n",
    "plt.legend()\n",
    "plt.show()\n",
    "plt.savefig(f\"auc_bs{hparams_nrms.batch_size}_lr{hparams_nrms.learning_rate}_wd{hparams_nrms.weight_decay}_hd{hparams_nrms.head_dim}_hn{hparams_nrms.head_num}_hs{hparams_nrms.history_size}.png\")"
   ]
  },
  {
   "cell_type": "code",
   "execution_count": 13,
   "metadata": {},
   "outputs": [
    {
     "name": "stderr",
     "output_type": "stream",
     "text": [
      "C:\\Users\\danie\\AppData\\Local\\Temp\\ipykernel_20048\\1362560733.py:3: FutureWarning: You are using `torch.load` with `weights_only=False` (the current default value), which uses the default pickle module implicitly. It is possible to construct malicious pickle data which will execute arbitrary code during unpickling (See https://github.com/pytorch/pytorch/blob/main/SECURITY.md#untrusted-models for more details). In a future release, the default value for `weights_only` will be flipped to `True`. This limits the functions that could be executed during unpickling. Arbitrary objects will no longer be allowed to be loaded via this mode unless they are explicitly allowlisted by the user via `torch.serialization.add_safe_globals`. We recommend you start setting `weights_only=True` for any use case where you don't have full control of the loaded file. Please open an issue on GitHub for any issues related to this experimental feature.\n",
      "  nrms.load_state_dict(torch.load(\"nrms_model.pth\"))\n"
     ]
    },
    {
     "ename": "AttributeError",
     "evalue": "'DataFrame' object has no attribute 'with_column'",
     "output_type": "error",
     "traceback": [
      "\u001b[1;31m---------------------------------------------------------------------------\u001b[0m",
      "\u001b[1;31mAttributeError\u001b[0m                            Traceback (most recent call last)",
      "Cell \u001b[1;32mIn[13], line 22\u001b[0m\n\u001b[0;32m     19\u001b[0m         torch\u001b[38;5;241m.\u001b[39mcuda\u001b[38;5;241m.\u001b[39mempty_cache()\n\u001b[0;32m     21\u001b[0m \u001b[38;5;66;03m# Rank the predictions\u001b[39;00m\n\u001b[1;32m---> 22\u001b[0m df_validation \u001b[38;5;241m=\u001b[39m \u001b[43mdf_validation\u001b[49m\u001b[38;5;241;43m.\u001b[39;49m\u001b[43mwith_column\u001b[49m(\u001b[38;5;124m\"\u001b[39m\u001b[38;5;124mpredictions\u001b[39m\u001b[38;5;124m\"\u001b[39m, pl\u001b[38;5;241m.\u001b[39mSeries(predictions))\n\u001b[0;32m     23\u001b[0m df_validation \u001b[38;5;241m=\u001b[39m rank_predictions_by_score(df_validation, \u001b[38;5;124m\"\u001b[39m\u001b[38;5;124mpredictions\u001b[39m\u001b[38;5;124m\"\u001b[39m, groupby\u001b[38;5;241m=\u001b[39mDEFAULT_IMPRESSION_ID_COL)\n\u001b[0;32m     24\u001b[0m df_validation\u001b[38;5;241m.\u001b[39mhead(\u001b[38;5;241m5\u001b[39m)\n",
      "\u001b[1;31mAttributeError\u001b[0m: 'DataFrame' object has no attribute 'with_column'"
     ]
    }
   ],
   "source": [
    "# Load the model\n",
    "nrms = NRMSModel(hparams_nrms=hparams_nrms, word2vec_embedding=word2vec_embedding, seed=50).to(device)\n",
    "nrms.load_state_dict(torch.load(\"nrms_model.pth\"))\n",
    "nrms.eval()\n",
    "\n",
    "# Generate predictions\n",
    "predictions = []\n",
    "nrms.eval()\n",
    "with torch.no_grad():\n",
    "    for i, ((his_input_title, pred_input_title), labels) in enumerate(val_dataloader):\n",
    "        his_input_title = his_input_title.to(device, dtype=torch.long)\n",
    "        pred_input_title = pred_input_title.to(device, dtype=torch.long)\n",
    "        outputs = nrms(his_input_title, pred_input_title).to(device)\n",
    "        predictions.extend(outputs.cpu().numpy())\n",
    "        his_input_title = his_input_title.detach()\n",
    "        pred_input_title = pred_input_title.detach()\n",
    "        outputs = outputs.detach()\n",
    "        del his_input_title, pred_input_title, outputs\n",
    "        torch.cuda.empty_cache()\n",
    "        \n",
    "# Rank the predictions\n",
    "df_validation = df_validation.with_column(\"predictions\", pl.Series(predictions))\n",
    "df_validation = rank_predictions_by_score(df_validation, \"predictions\", groupby=DEFAULT_IMPRESSION_ID_COL)\n",
    "df_validation.head(5)\n"
   ]
  },
  {
   "cell_type": "markdown",
   "metadata": {},
   "source": [
    "# Example how to compute some metrics:"
   ]
  },
  {
   "cell_type": "code",
   "execution_count": null,
   "metadata": {},
   "outputs": [],
   "source": [
    "# pred_validation = model.scorer.predict(val_dataloader)"
   ]
  },
  {
   "cell_type": "markdown",
   "metadata": {},
   "source": [
    "## Add the predictions to the dataframe"
   ]
  },
  {
   "cell_type": "code",
   "execution_count": null,
   "metadata": {},
   "outputs": [],
   "source": [
    "# df_validation = add_prediction_scores(df_validation, pred_validation.tolist()).pipe(\n",
    "#     add_known_user_column, known_users=df_train[DEFAULT_USER_COL]\n",
    "# )\n",
    "# df_validation.head(2)"
   ]
  },
  {
   "cell_type": "markdown",
   "metadata": {},
   "source": [
    "### Compute metrics"
   ]
  },
  {
   "cell_type": "code",
   "execution_count": null,
   "metadata": {},
   "outputs": [],
   "source": [
    "# metrics = MetricEvaluator(\n",
    "#     labels=df_validation[\"labels\"].to_list(),\n",
    "#     predictions=df_validation[\"scores\"].to_list(),\n",
    "#     metric_functions=[AucScore(), MrrScore(), NdcgScore(k=5), NdcgScore(k=10)],\n",
    "# )\n",
    "# metrics.evaluate()"
   ]
  },
  {
   "cell_type": "markdown",
   "metadata": {},
   "source": [
    "## Make submission file"
   ]
  },
  {
   "cell_type": "code",
   "execution_count": null,
   "metadata": {},
   "outputs": [],
   "source": [
    "# df_validation = df_validation.with_columns(\n",
    "#     pl.col(\"scores\")\n",
    "#     .map_elements(lambda x: list(rank_predictions_by_score(x)))\n",
    "#     .alias(\"ranked_scores\")\n",
    "# )\n",
    "# df_validation.head(2)"
   ]
  },
  {
   "cell_type": "markdown",
   "metadata": {},
   "source": [
    "This is using the validation, simply add the testset to your flow."
   ]
  },
  {
   "cell_type": "code",
   "execution_count": null,
   "metadata": {},
   "outputs": [],
   "source": [
    "# write_submission_file(\n",
    "#     impression_ids=df_validation[DEFAULT_IMPRESSION_ID_COL],\n",
    "#     prediction_scores=df_validation[\"ranked_scores\"],\n",
    "#     path=\"downloads/predictions.txt\",\n",
    "# )"
   ]
  },
  {
   "cell_type": "markdown",
   "metadata": {},
   "source": [
    "# DONE 🚀"
   ]
  }
 ],
 "metadata": {
  "kernelspec": {
   "display_name": "DeepLearningNew",
   "language": "python",
   "name": "python3"
  },
  "language_info": {
   "codemirror_mode": {
    "name": "ipython",
    "version": 3
   },
   "file_extension": ".py",
   "mimetype": "text/x-python",
   "name": "python",
   "nbconvert_exporter": "python",
   "pygments_lexer": "ipython3",
   "version": "3.11.10"
  }
 },
 "nbformat": 4,
 "nbformat_minor": 2
}
